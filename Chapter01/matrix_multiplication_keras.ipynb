{
 "cells": [
  {
   "cell_type": "code",
   "execution_count": 2,
   "metadata": {},
   "outputs": [
    {
     "name": "stdout",
     "output_type": "stream",
     "text": [
      "[[ 127.55612946  125.59892273  122.93148041 ...,  119.09933472\n",
      "   120.31015015  123.70563507]\n",
      " [ 126.91525269  120.60913086  122.53115845 ...,  114.7818985   117.73587036\n",
      "   119.22080994]\n",
      " [ 125.19042969  124.79894257  128.43052673 ...,  121.96895599\n",
      "   116.95805359  123.73403168]\n",
      " ..., \n",
      " [ 126.55613708  125.86196899  127.1171875  ...,  123.17983246  123.4691925\n",
      "   123.82902527]\n",
      " [ 130.45053101  133.09960938  136.35180664 ...,  130.31216431\n",
      "   129.79626465  130.48962402]\n",
      " [ 130.10887146  127.49655914  129.2310791  ...,  126.10153961  123.6025238\n",
      "   126.6700592 ]]\n"
     ]
    }
   ],
   "source": [
    "import keras.backend as K\n",
    "import numpy as np\n",
    "A = np.random.rand(20,500)\n",
    "B = np.random.rand(500,3000)\n",
    "\n",
    "x = K.variable(value=A)\n",
    "y = K.variable(value=B)\n",
    "\n",
    "z = K.dot(x,y)\n",
    "\n",
    "print(K.eval(z))\n"
   ]
  },
  {
   "cell_type": "code",
   "execution_count": null,
   "metadata": {},
   "outputs": [],
   "source": []
  }
 ],
 "metadata": {
  "kernelspec": {
   "display_name": "Python [conda env:tensorflow]",
   "language": "python",
   "name": "conda-env-tensorflow-py"
  },
  "language_info": {
   "codemirror_mode": {
    "name": "ipython",
    "version": 3
   },
   "file_extension": ".py",
   "mimetype": "text/x-python",
   "name": "python",
   "nbconvert_exporter": "python",
   "pygments_lexer": "ipython3",
   "version": "3.5.4"
  }
 },
 "nbformat": 4,
 "nbformat_minor": 2
}
