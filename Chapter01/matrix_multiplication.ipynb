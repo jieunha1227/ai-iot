{
 "cells": [
  {
   "cell_type": "code",
   "execution_count": 3,
   "metadata": {},
   "outputs": [
    {
     "name": "stdout",
     "output_type": "stream",
     "text": [
      "[[ 1.05043888  0.57121533]\n",
      " [ 1.45642126  0.61392534]\n",
      " [ 0.52326083  0.47913069]]\n"
     ]
    }
   ],
   "source": [
    "# import libraries and modules needed for the code\n",
    "import tensorflow as tf\n",
    "import numpy as np\n",
    "\n",
    "# Data\n",
    "# A random matrix of size [3,5]\n",
    "mat1 = np.random.rand(3,5)  \n",
    "# A random matrix of size [5,2]\n",
    "mat2 = np.random.rand(5,2) \n",
    "\n",
    "\n",
    "#Computation Graph\n",
    "A = tf.placeholder(tf.float32, None, name='A')\n",
    "B = tf.placeholder(tf.float32, None, name='B')\n",
    "C = tf.matmul(A,B)\n",
    "\n",
    "\n",
    "#Execution Graph\n",
    "with tf.Session() as sess:\n",
    "    result = sess.run(C, feed_dict={A: mat1, B:mat2})\n",
    "    print(result)\n",
    "    "
   ]
  },
  {
   "cell_type": "code",
   "execution_count": null,
   "metadata": {},
   "outputs": [],
   "source": []
  }
 ],
 "metadata": {
  "kernelspec": {
   "display_name": "Python [conda env:tensorflow]",
   "language": "python",
   "name": "conda-env-tensorflow-py"
  },
  "language_info": {
   "codemirror_mode": {
    "name": "ipython",
    "version": 3
   },
   "file_extension": ".py",
   "mimetype": "text/x-python",
   "name": "python",
   "nbconvert_exporter": "python",
   "pygments_lexer": "ipython3",
   "version": "3.5.4"
  }
 },
 "nbformat": 4,
 "nbformat_minor": 2
}
