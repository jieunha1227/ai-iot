{
 "cells": [
  {
   "cell_type": "markdown",
   "metadata": {},
   "source": [
    "## Heart Monitor\n",
    "Another very useful personal application of AI in IoT is the in the detection of heart diseases. A large number of wearables exist which can be used to monitor and record the heart rate. The data can be used to predict any harmful heart condition. Here we will employ the AI/ML tools to predict cardiac Arrhythmia, a group of conditions where the heart rate is irregular, it can be either too fast (above 100 beats per minute) or too slow (below 60 beats per minute). The data used is taken from the [UCI Ml dataset repo](https://archive.ics.uci.edu/ml/datasets/heart+Disease). The dataset consists of 76 attributes, not all required for prediction of the presence of disease, the dataset has a \"goal\" field associated with each data row, it has five possible values 0-4, the value 0 indicates healthy heart, any other value means there is a disease. The problem can be broken into a binary classification problem for better accuracy.  The code is inspired from the GitHub link of [Mohammed Rashad](https://github.com/MohammedRashad/Deep-Learning-and-Wearable-IoT-to-Monitor-and-Predict-Cardiac-Arrhytmia), it is shared under the GNU GPL 3.0 license.\n",
    "\n",
    "The first step as always is to import the necessary modules. Since we are now classifying the patients as suffering from heart disease or not, we will need a classifier. Here for simplicity, we use SVC classifier. You can experiment with MLP classifier"
   ]
  },
  {
   "cell_type": "code",
   "execution_count": 1,
   "metadata": {},
   "outputs": [],
   "source": [
    "# importing required libraries\n",
    "import numpy as np\n",
    "import pandas as pd\n",
    "import matplotlib.pyplot as plt\n",
    "\n",
    "from sklearn.svm import SVC\n",
    "from sklearn import metrics\n",
    "from sklearn.metrics import confusion_matrix\n",
    "from sklearn.model_selection import train_test_split"
   ]
  },
  {
   "cell_type": "markdown",
   "metadata": {},
   "source": [
    "Next, read the dataset, preprocess the dataset to select attributes you will be considering, we choose 13 attributes from 76. And we convert the target from a multi-class value to binary class. Finally, the data is split in train and test dataset."
   ]
  },
  {
   "cell_type": "code",
   "execution_count": 2,
   "metadata": {},
   "outputs": [],
   "source": [
    "# reading csv file and extracting class column to y.\n",
    "dataset = pd.read_csv(\"data.csv\")\n",
    "dataset.fillna(dataset.mean(), inplace=True)\n",
    "\n",
    "dataset_to_array = np.array(dataset)\n",
    "label = dataset_to_array[:,57] # \"Target\" classes having 0 and 1\n",
    "label = label.astype('int')\n",
    "label[label>0] = 1 # When it is 0 heart is healthy, 1 otherwise"
   ]
  },
  {
   "cell_type": "code",
   "execution_count": 3,
   "metadata": {},
   "outputs": [
    {
     "name": "stdout",
     "output_type": "stream",
     "text": [
      "The Dataset dimensions are :  (617, 13) \n",
      "\n"
     ]
    }
   ],
   "source": [
    "# extracting 13 features\n",
    "dataset = np.column_stack((\n",
    "    dataset_to_array[:,4] ,       # pain location\n",
    "    dataset_to_array[:,6] ,       # relieved after rest\n",
    "    dataset_to_array[:,9] ,       # pain type \n",
    "    dataset_to_array[:,11],       # resting blood pressure\n",
    "    dataset_to_array[:,33],       # maximum heart rate achieved\n",
    "    dataset_to_array[:,34],       # resting heart rate \n",
    "    dataset_to_array[:,35],       # peak exercise blood pressure (first of 2 parts) \n",
    "    dataset_to_array[:,36],       # peak exercise blood pressure (second of 2 parts) \n",
    "    dataset_to_array[:,38],       # resting blood pressure \n",
    "    dataset_to_array[:,39],       # exercise induced angina (1 = yes; 0 = no) \n",
    "    dataset.age,                  # age \n",
    "    dataset.sex ,                 # sex\n",
    "    dataset.hypertension          # hyper tension\n",
    "   ))\n",
    "\n",
    "print (\"The Dataset dimensions are : \" , dataset.shape , \"\\n\")"
   ]
  },
  {
   "cell_type": "code",
   "execution_count": 4,
   "metadata": {},
   "outputs": [],
   "source": [
    "# dividing data into train and test data\n",
    "X_train, X_test, y_train, y_test = train_test_split(dataset, label, random_state = 223)"
   ]
  },
  {
   "cell_type": "markdown",
   "metadata": {},
   "source": [
    "Now, we define the model to be used, here we are using support vector classifier, using the fit function train it on train dataset."
   ]
  },
  {
   "cell_type": "code",
   "execution_count": 5,
   "metadata": {},
   "outputs": [],
   "source": [
    "model = SVC(kernel = 'linear').fit(X_train, y_train)\n"
   ]
  },
  {
   "cell_type": "markdown",
   "metadata": {},
   "source": [
    "Let us see its performance on the test dataset. "
   ]
  },
  {
   "cell_type": "code",
   "execution_count": 6,
   "metadata": {},
   "outputs": [
    {
     "name": "stdout",
     "output_type": "stream",
     "text": [
      "Accuracy of the model is : 0.7419354838709677 \n",
      "Approximately :  74.0 %\n",
      "\n"
     ]
    }
   ],
   "source": [
    "model_predictions = model.predict(X_test)\n",
    "# model accuracy for X_test  \n",
    "accuracy = metrics.accuracy_score(y_test, model_predictions)\n",
    "print (\"Accuracy of the model is :\" , \n",
    "       accuracy , \"\\nApproximately : \", \n",
    "       round(accuracy*100) , \"%\\n\")"
   ]
  },
  {
   "cell_type": "markdown",
   "metadata": {},
   "source": [
    "You can see that it provides an accuracy of 74%, using MLP we can increase it further. But do remember to normalize all the input features before using MLP Classifier. Below is the confusion matrix of our trained support vector classifier on the test dataset."
   ]
  },
  {
   "cell_type": "code",
   "execution_count": 7,
   "metadata": {},
   "outputs": [],
   "source": [
    "# creating a confusion matrix\n",
    "cm = confusion_matrix(y_test, model_predictions)\n"
   ]
  },
  {
   "cell_type": "code",
   "execution_count": 8,
   "metadata": {},
   "outputs": [
    {
     "data": {
      "text/plain": [
       "<matplotlib.axes._subplots.AxesSubplot at 0x1a19fcdef0>"
      ]
     },
     "execution_count": 8,
     "metadata": {},
     "output_type": "execute_result"
    },
    {
     "data": {
      "image/png": "[encoded data removed]",
      "text/plain": [
       "<Figure size 720x504 with 2 Axes>"
      ]
     },
     "metadata": {},
     "output_type": "display_data"
    }
   ],
   "source": [
    "import pandas as pd\n",
    "import seaborn as sn\n",
    "import matplotlib.pyplot as plt\n",
    "%matplotlib inline\n",
    "df_cm = pd.DataFrame(cm, index = [i for i in \"01\"],\n",
    "                  columns = [i for i in \"01\"])\n",
    "plt.figure(figsize = (10,7))\n",
    "sn.heatmap(df_cm, annot=True)"
   ]
  },
  {
   "cell_type": "code",
   "execution_count": null,
   "metadata": {},
   "outputs": [],
   "source": []
  }
 ],
 "metadata": {
  "kernelspec": {
   "display_name": "Python [conda env:tensorflow]",
   "language": "python",
   "name": "conda-env-tensorflow-py"
  },
  "language_info": {
   "codemirror_mode": {
    "name": "ipython",
    "version": 3
   },
   "file_extension": ".py",
   "mimetype": "text/x-python",
   "name": "python",
   "nbconvert_exporter": "python",
   "pygments_lexer": "ipython3",
   "version": "3.5.6"
  }
 },
 "nbformat": 4,
 "nbformat_minor": 2
}
