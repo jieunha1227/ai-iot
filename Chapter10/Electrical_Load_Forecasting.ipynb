{
 "cells": [
  {
   "cell_type": "markdown",
   "metadata": {},
   "source": [
    "Dataset to be downloaded from: https://archive.ics.uci.edu/ml/datasets/Individual+household+electric+power+consumption#"
   ]
  },
  {
   "cell_type": "code",
   "execution_count": 1,
   "metadata": {},
   "outputs": [
    {
     "name": "stderr",
     "output_type": "stream",
     "text": [
      "Using TensorFlow backend.\n"
     ]
    }
   ],
   "source": [
    "import time\n",
    "from keras.layers import LSTM\n",
    "from keras.layers import Activation, Dense, Dropout\n",
    "from keras.models import Sequential, load_model\n",
    "from numpy.random import seed\n",
    "\n",
    "from tensorflow import set_random_seed\n",
    "set_random_seed(2)  # seed random numbers for Tensorflow backend\n",
    "seed(1234)  # seed random numbers for Keras\n",
    "import numpy as np\n",
    "import csv\n",
    "import matplotlib.pyplot as plt\n",
    "\n",
    "%matplotlib inline\n"
   ]
  },
  {
   "cell_type": "code",
   "execution_count": 2,
   "metadata": {},
   "outputs": [],
   "source": [
    "def load_data(dataset_path, sequence_length=60, prediction_steps=5, ratio_of_data=1.0):\n",
    "    max_values = ratio_of_data * 2075259  # 2075259 is the total number of measurements from Dec 2006 to Nov 2010\n",
    "\n",
    "    # Load data from file\n",
    "    with open(dataset_path) as file:\n",
    "        data_file = csv.reader(file, delimiter=\";\")\n",
    "        power_consumption = []\n",
    "        number_of_values = 0\n",
    "        for line in data_file:\n",
    "            try:\n",
    "                power_consumption.append(float(line[2]))\n",
    "                number_of_values += 1\n",
    "            except ValueError:\n",
    "                pass\n",
    "            if number_of_values >= max_values:  # limit data to be considered by model according to max_values\n",
    "                break\n",
    "\n",
    "    print('Loaded data from csv.')\n",
    "    windowed_data = []\n",
    "    # Format data into rolling window sequences\n",
    "    for index in range(len(power_consumption) - sequence_length):  # for e.g: index=0 => 123, index=1 => 234 etc.\n",
    "        windowed_data.append(power_consumption[index: index + sequence_length])\n",
    "    windowed_data = np.array(windowed_data)  # shape (number of samples, sequence length)\n",
    "\n",
    "    # Center data\n",
    "    data_mean = windowed_data.mean()\n",
    "    windowed_data -= data_mean\n",
    "    print('Center data so mean is zero (subtract each data point by mean of value: ', data_mean, ')')\n",
    "    print('Data  : ', windowed_data.shape)\n",
    "\n",
    "    # Split data into training and testing sets\n",
    "    train_set_ratio = 0.9\n",
    "    row = int(round(train_set_ratio * windowed_data.shape[0]))\n",
    "    train = windowed_data[:row, :]\n",
    "    x_train = train[:, :-prediction_steps]  # remove last prediction_steps from train set\n",
    "    y_train = train[:, -prediction_steps:]  # take last prediction_steps from train set\n",
    "    x_test = windowed_data[row:, :-prediction_steps]\n",
    "    y_test = windowed_data[row:, -prediction_steps:]  # take last prediction_steps from test set\n",
    "\n",
    "    x_train = np.reshape(x_train, (x_train.shape[0], x_train.shape[1], 1))\n",
    "    x_test = np.reshape(x_test, (x_test.shape[0], x_test.shape[1], 1))\n",
    "\n",
    "    return [x_train, y_train, x_test, y_test, data_mean]"
   ]
  },
  {
   "cell_type": "code",
   "execution_count": 3,
   "metadata": {},
   "outputs": [],
   "source": [
    "def plot_predictions(result_mean, prediction_steps, predicted, y_test, global_start_time):\n",
    "    try:\n",
    "        test_hours_to_plot = 2\n",
    "        t0 = 20  # time to start plot of predictions\n",
    "        skip = 15  # skip prediction plots by specified minutes\n",
    "        print('Plotting predictions...')\n",
    "        fig = plt.figure()\n",
    "        ax = fig.add_subplot(1, 1, 1)\n",
    "        ax.plot(y_test[:test_hours_to_plot * 60, 0] + result_mean, label='Raw data')  # plot actual test series\n",
    "\n",
    "        # plot predicted values from t0 to t0+prediction_steps\n",
    "        plt.plot(np.arange(t0 - 1, t0 + prediction_steps),\n",
    "                 np.insert(predicted[t0, :], 0, y_test[t0 - 1, 0]) + result_mean,\n",
    "                 color='red', label='t+{0} evolution of predictions'.format(prediction_steps))\n",
    "        for i in range(t0, test_hours_to_plot * 60, skip):\n",
    "            t0 += skip\n",
    "            if t0 + prediction_steps > test_hours_to_plot * 60:  # check plot does not exceed boundary\n",
    "                break\n",
    "            plt.plot(np.arange(t0 - 1, t0 + prediction_steps),\n",
    "                     np.insert(predicted[t0, :], 0, y_test[t0 - 1, 0]) + result_mean, color='green')\n",
    "\n",
    "        # plot predicted value of t+prediction_steps as series\n",
    "        plt.plot(predicted[:test_hours_to_plot * 60, prediction_steps - 1] + result_mean,\n",
    "                 label='t+{0} prediction series'.format(prediction_steps))\n",
    "\n",
    "        plt.legend(loc='lower left')\n",
    "        plt.ylabel('Actual Power in kilowatt')\n",
    "        plt.xlabel('Time in minutes')\n",
    "        plt.title('Predictions for first {0} minutes in test set'.format(test_hours_to_plot * 60))\n",
    "        plt.show()\n",
    "    except Exception as e:\n",
    "        print(str(e))\n",
    "    print('Duration of training (s) : ', time.time() - global_start_time)\n",
    "\n",
    "    return None"
   ]
  },
  {
   "cell_type": "code",
   "execution_count": 4,
   "metadata": {},
   "outputs": [],
   "source": [
    "def build_model(prediction_steps):\n",
    "    model = Sequential()\n",
    "    layers = [1, 75, 100, prediction_steps]\n",
    "    model.add(LSTM(layers[1], input_shape=(None, layers[0]), return_sequences=True))  # add first layer\n",
    "    model.add(Dropout(0.2))  # add dropout for first layer\n",
    "    model.add(LSTM(layers[2], return_sequences=False))  # add second layer\n",
    "    model.add(Dropout(0.2))  # add dropout for second layer\n",
    "    model.add(Dense(layers[3]))  # add output layer\n",
    "    model.add(Activation('linear'))  # output layer with linear activation\n",
    "    start = time.time()\n",
    "    model.compile(loss=\"mse\", optimizer=\"rmsprop\")\n",
    "    print('Compilation Time : ', time.time() - start)\n",
    "    return model"
   ]
  },
  {
   "cell_type": "code",
   "execution_count": 5,
   "metadata": {},
   "outputs": [],
   "source": [
    "def run_lstm(model, sequence_length, prediction_steps):\n",
    "    data = None\n",
    "    global_start_time = time.time()\n",
    "    epochs = 1\n",
    "    ratio_of_data = 1  # ratio of data to use from 2+ million data points\n",
    "    path_to_dataset = 'data/household_power_consumption.txt'\n",
    "\n",
    "    if data is None:\n",
    "        print('Loading data... ')\n",
    "        x_train, y_train, x_test, y_test, result_mean = load_data(path_to_dataset, sequence_length,\n",
    "                                                                  prediction_steps, ratio_of_data)\n",
    "    else:\n",
    "        x_train, y_train, x_test, y_test = data\n",
    "\n",
    "    print('\\nData Loaded. Compiling...\\n')\n",
    "    \n",
    "    model.fit(x_train, y_train, batch_size=128, epochs=epochs, validation_split=0.05)\n",
    "    predicted = model.predict(x_test)\n",
    "    # predicted = np.reshape(predicted, (predicted.size,))\n",
    "    model.save('LSTM_power_consumption_model.h5')  # save LSTM model\n",
    "\n",
    "    plot_predictions(result_mean, prediction_steps, predicted, y_test, global_start_time)\n",
    "\n",
    "    return None"
   ]
  },
  {
   "cell_type": "code",
   "execution_count": 6,
   "metadata": {},
   "outputs": [
    {
     "name": "stdout",
     "output_type": "stream",
     "text": [
      "Compilation Time :  0.010883808135986328\n",
      "Loading data... \n",
      "Loaded data from csv.\n",
      "Center data so mean is zero (subtract each data point by mean of value:  1.091607820345784 )\n",
      "Data  :  (2049270, 10)\n",
      "\n",
      "Data Loaded. Compiling...\n",
      "\n",
      "Train on 1752125 samples, validate on 92218 samples\n",
      "Epoch 1/1\n",
      "1752125/1752125 [==============================] - 143s 82us/step - loss: 0.1915 - val_loss: 0.1549\n",
      "Plotting predictions...\n"
     ]
    },
    {
     "data": {
      "image/png": "[encoded data removed]",
      "text/plain": [
       "<Figure size 432x288 with 1 Axes>"
      ]
     },
     "metadata": {
      "needs_background": "light"
     },
     "output_type": "display_data"
    },
    {
     "name": "stdout",
     "output_type": "stream",
     "text": [
      "Duration of training (s) :  165.87630820274353\n"
     ]
    }
   ],
   "source": [
    "sequence_length = 10  # number of past minutes of data for model to consider\n",
    "prediction_steps = 5  # number of future minutes of data for model to predict\n",
    "model = build_model(prediction_steps)\n",
    "run_lstm(model, sequence_length, prediction_steps)"
   ]
  },
  {
   "cell_type": "code",
   "execution_count": null,
   "metadata": {},
   "outputs": [],
   "source": []
  }
 ],
 "metadata": {
  "kernelspec": {
   "display_name": "Python [conda env:tf_gpu]",
   "language": "python",
   "name": "conda-env-tf_gpu-py"
  },
  "language_info": {
   "codemirror_mode": {
    "name": "ipython",
    "version": 3
   },
   "file_extension": ".py",
   "mimetype": "text/x-python",
   "name": "python",
   "nbconvert_exporter": "python",
   "pygments_lexer": "ipython3",
   "version": "3.5.2"
  }
 },
 "nbformat": 4,
 "nbformat_minor": 2
}
