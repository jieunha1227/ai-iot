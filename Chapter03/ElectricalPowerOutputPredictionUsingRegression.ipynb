{
 "cells": [
  {
   "cell_type": "code",
   "execution_count": 1,
   "metadata": {},
   "outputs": [],
   "source": [
    "# Import the modules\n",
    "import tensorflow as tf\n",
    "import numpy as np\n",
    "import pandas as pd\n",
    "import matplotlib.pyplot as plt\n",
    "from sklearn.preprocessing import MinMaxScaler\n",
    "from sklearn.metrics import mean_squared_error, r2_score\n",
    "from sklearn.model_selection import train_test_split\n",
    "% matplotlib inline"
   ]
  },
  {
   "cell_type": "code",
   "execution_count": 2,
   "metadata": {},
   "outputs": [
    {
     "data": {
      "text/html": [
       "<div>\n",
       "<style scoped>\n",
       "    .dataframe tbody tr th:only-of-type {\n",
       "        vertical-align: middle;\n",
       "    }\n",
       "\n",
       "    .dataframe tbody tr th {\n",
       "        vertical-align: top;\n",
       "    }\n",
       "\n",
       "    .dataframe thead th {\n",
       "        text-align: right;\n",
       "    }\n",
       "</style>\n",
       "<table border=\"1\" class=\"dataframe\">\n",
       "  <thead>\n",
       "    <tr style=\"text-align: right;\">\n",
       "      <th></th>\n",
       "      <th>AT</th>\n",
       "      <th>V</th>\n",
       "      <th>AP</th>\n",
       "      <th>RH</th>\n",
       "      <th>PE</th>\n",
       "    </tr>\n",
       "  </thead>\n",
       "  <tbody>\n",
       "    <tr>\n",
       "      <th>count</th>\n",
       "      <td>9568.000000</td>\n",
       "      <td>9568.000000</td>\n",
       "      <td>9568.000000</td>\n",
       "      <td>9568.000000</td>\n",
       "      <td>9568.000000</td>\n",
       "    </tr>\n",
       "    <tr>\n",
       "      <th>mean</th>\n",
       "      <td>19.651231</td>\n",
       "      <td>54.305804</td>\n",
       "      <td>1013.259078</td>\n",
       "      <td>73.308978</td>\n",
       "      <td>454.365009</td>\n",
       "    </tr>\n",
       "    <tr>\n",
       "      <th>std</th>\n",
       "      <td>7.452473</td>\n",
       "      <td>12.707893</td>\n",
       "      <td>5.938784</td>\n",
       "      <td>14.600269</td>\n",
       "      <td>17.066995</td>\n",
       "    </tr>\n",
       "    <tr>\n",
       "      <th>min</th>\n",
       "      <td>1.810000</td>\n",
       "      <td>25.360000</td>\n",
       "      <td>992.890000</td>\n",
       "      <td>25.560000</td>\n",
       "      <td>420.260000</td>\n",
       "    </tr>\n",
       "    <tr>\n",
       "      <th>25%</th>\n",
       "      <td>13.510000</td>\n",
       "      <td>41.740000</td>\n",
       "      <td>1009.100000</td>\n",
       "      <td>63.327500</td>\n",
       "      <td>439.750000</td>\n",
       "    </tr>\n",
       "    <tr>\n",
       "      <th>50%</th>\n",
       "      <td>20.345000</td>\n",
       "      <td>52.080000</td>\n",
       "      <td>1012.940000</td>\n",
       "      <td>74.975000</td>\n",
       "      <td>451.550000</td>\n",
       "    </tr>\n",
       "    <tr>\n",
       "      <th>75%</th>\n",
       "      <td>25.720000</td>\n",
       "      <td>66.540000</td>\n",
       "      <td>1017.260000</td>\n",
       "      <td>84.830000</td>\n",
       "      <td>468.430000</td>\n",
       "    </tr>\n",
       "    <tr>\n",
       "      <th>max</th>\n",
       "      <td>37.110000</td>\n",
       "      <td>81.560000</td>\n",
       "      <td>1033.300000</td>\n",
       "      <td>100.160000</td>\n",
       "      <td>495.760000</td>\n",
       "    </tr>\n",
       "  </tbody>\n",
       "</table>\n",
       "</div>"
      ],
      "text/plain": [
       "                AT            V           AP           RH           PE\n",
       "count  9568.000000  9568.000000  9568.000000  9568.000000  9568.000000\n",
       "mean     19.651231    54.305804  1013.259078    73.308978   454.365009\n",
       "std       7.452473    12.707893     5.938784    14.600269    17.066995\n",
       "min       1.810000    25.360000   992.890000    25.560000   420.260000\n",
       "25%      13.510000    41.740000  1009.100000    63.327500   439.750000\n",
       "50%      20.345000    52.080000  1012.940000    74.975000   451.550000\n",
       "75%      25.720000    66.540000  1017.260000    84.830000   468.430000\n",
       "max      37.110000    81.560000  1033.300000   100.160000   495.760000"
      ]
     },
     "execution_count": 2,
     "metadata": {},
     "output_type": "execute_result"
    }
   ],
   "source": [
    "filename = 'Folds5x2_pp.xlsx'\n",
    "df = pd.read_excel(filename, sheet_name='Sheet1')\n",
    "df.describe()"
   ]
  },
  {
   "cell_type": "code",
   "execution_count": 3,
   "metadata": {},
   "outputs": [],
   "source": [
    "X, Y = df[['AT', 'V','AP','RH']], df['PE']\n",
    "scaler = MinMaxScaler()\n",
    "X_new = scaler.fit_transform(X)\n",
    "target_scaler = MinMaxScaler()\n",
    "Y_new = target_scaler.fit_transform(Y.values.reshape(-1,1))\n",
    "X_train, X_test, Y_train, y_test = \\\n",
    "  train_test_split(X_new, Y_new, test_size=0.4, random_state=333)"
   ]
  },
  {
   "cell_type": "code",
   "execution_count": 4,
   "metadata": {},
   "outputs": [],
   "source": [
    "class LinearRegressor:\n",
    "    def __init__(self,d, lr=0.001 ):\n",
    "                \n",
    "        # Place holders for input-output training data\n",
    "        self.X = tf.placeholder(tf.float32,\\\n",
    "                    shape=[None,d], name='input')\n",
    "        self.Y = tf.placeholder(tf.float32,\\\n",
    "                    name='output')\n",
    "        # Variables for weight and bias\n",
    "        self.b = tf.Variable(0.0, dtype=tf.float32)\n",
    "        self.W = tf.Variable(tf.random_normal([d,1]),\\\n",
    "                             dtype=tf.float32)\n",
    "            \n",
    "        # The Linear Regression Model\n",
    "        self.F = self.function(self.X)\n",
    "        \n",
    "        # Loss function\n",
    "        self.loss = tf.reduce_mean(tf.square(self.Y - self.F,\\\n",
    "                                        name='LSE'))\n",
    "\n",
    "        # Gradient Descent with learning \n",
    "        # rate of 0.05 to minimize loss\n",
    "        optimizer = tf.train.GradientDescentOptimizer(lr)\n",
    "        self.optimize = optimizer.minimize(self.loss)\n",
    "\n",
    "        # Initializing Variables\n",
    "        init_op = tf.global_variables_initializer()\n",
    "        self.sess = tf.Session()\n",
    "        self.sess.run(init_op)\n",
    "        \n",
    "    def function(self, X):\n",
    "        return tf.matmul(X, self.W) + self.b\n",
    " \n",
    "    def fit(self, X, Y,epochs=500):\n",
    "        total = []\n",
    "        for i in range(epochs):\n",
    "            _, l = self.sess.run([self.optimize,self.loss],\\\n",
    "                            feed_dict={self.X: X, self.Y: Y})\n",
    "            total.append(l)\n",
    "            if i%100==0:\n",
    "                print('Epoch {0}/{1}: Loss {2}'.format(i,epochs,l))\n",
    "        return total\n",
    "    \n",
    "    def predict(self, X):\n",
    "        return self.sess.run(self.function(X), feed_dict={self.X:X})\n",
    "    \n",
    "    def get_weights(self):\n",
    "        return self.sess.run([self.W, self.b])"
   ]
  },
  {
   "cell_type": "code",
   "execution_count": 5,
   "metadata": {},
   "outputs": [],
   "source": [
    "N, d = X_train.shape\n",
    "model = LinearRegressor(d)\n",
    "#loss = model.fit(X_train, Y_train)"
   ]
  },
  {
   "cell_type": "code",
   "execution_count": 6,
   "metadata": {},
   "outputs": [
    {
     "name": "stdout",
     "output_type": "stream",
     "text": [
      "Epoch 0/20000: Loss 0.21545326709747314\n",
      "Epoch 100/20000: Loss 0.19007785618305206\n",
      "Epoch 200/20000: Loss 0.17610767483711243\n",
      "Epoch 300/20000: Loss 0.16699175536632538\n",
      "Epoch 400/20000: Loss 0.16001276671886444\n",
      "Epoch 500/20000: Loss 0.15404105186462402\n",
      "Epoch 600/20000: Loss 0.1486041396856308\n",
      "Epoch 700/20000: Loss 0.14350160956382751\n",
      "Epoch 800/20000: Loss 0.13864654302597046\n",
      "Epoch 900/20000: Loss 0.13399846851825714\n",
      "Epoch 1000/20000: Loss 0.12953655421733856\n",
      "Epoch 1100/20000: Loss 0.12524846196174622\n",
      "Epoch 1200/20000: Loss 0.12112526595592499\n",
      "Epoch 1300/20000: Loss 0.11715959757566452\n",
      "Epoch 1400/20000: Loss 0.11334507167339325\n",
      "Epoch 1500/20000: Loss 0.10967571288347244\n",
      "Epoch 1600/20000: Loss 0.10614560544490814\n",
      "Epoch 1700/20000: Loss 0.10274960100650787\n",
      "Epoch 1800/20000: Loss 0.09948232769966125\n",
      "Epoch 1900/20000: Loss 0.0963388979434967\n",
      "Epoch 2000/20000: Loss 0.0933145210146904\n",
      "Epoch 2100/20000: Loss 0.09040451794862747\n",
      "Epoch 2200/20000: Loss 0.0876045748591423\n",
      "Epoch 2300/20000: Loss 0.08491037786006927\n",
      "Epoch 2400/20000: Loss 0.0823177844285965\n",
      "Epoch 2500/20000: Loss 0.07982300966978073\n",
      "Epoch 2600/20000: Loss 0.0774221196770668\n",
      "Epoch 2700/20000: Loss 0.07511153072118759\n",
      "Epoch 2800/20000: Loss 0.07288788259029388\n",
      "Epoch 2900/20000: Loss 0.07074767351150513\n",
      "Epoch 3000/20000: Loss 0.06868772953748703\n",
      "Epoch 3100/20000: Loss 0.06670496612787247\n",
      "Epoch 3200/20000: Loss 0.06479640305042267\n",
      "Epoch 3300/20000: Loss 0.06295915693044662\n",
      "Epoch 3400/20000: Loss 0.06119049713015556\n",
      "Epoch 3500/20000: Loss 0.059487733989953995\n",
      "Epoch 3600/20000: Loss 0.057848405092954636\n",
      "Epoch 3700/20000: Loss 0.05627002194523811\n",
      "Epoch 3800/20000: Loss 0.0547502376139164\n",
      "Epoch 3900/20000: Loss 0.053286805748939514\n",
      "Epoch 4000/20000: Loss 0.051877569407224655\n",
      "Epoch 4100/20000: Loss 0.05052041634917259\n",
      "Epoch 4200/20000: Loss 0.049213312566280365\n",
      "Epoch 4300/20000: Loss 0.04795442521572113\n",
      "Epoch 4400/20000: Loss 0.046741828322410583\n",
      "Epoch 4500/20000: Loss 0.04557373747229576\n",
      "Epoch 4600/20000: Loss 0.04444851353764534\n",
      "Epoch 4700/20000: Loss 0.04336448013782501\n",
      "Epoch 4800/20000: Loss 0.04232000559568405\n",
      "Epoch 4900/20000: Loss 0.04131360352039337\n",
      "Epoch 5000/20000: Loss 0.04034384712576866\n",
      "Epoch 5100/20000: Loss 0.03940926864743233\n",
      "Epoch 5200/20000: Loss 0.038508571684360504\n",
      "Epoch 5300/20000: Loss 0.03764042630791664\n",
      "Epoch 5400/20000: Loss 0.03680361062288284\n",
      "Epoch 5500/20000: Loss 0.03599691763520241\n",
      "Epoch 5600/20000: Loss 0.03521919250488281\n",
      "Epoch 5700/20000: Loss 0.03446930646896362\n",
      "Epoch 5800/20000: Loss 0.03374623507261276\n",
      "Epoch 5900/20000: Loss 0.03304891660809517\n",
      "Epoch 6000/20000: Loss 0.032376404851675034\n",
      "Epoch 6100/20000: Loss 0.03172771632671356\n",
      "Epoch 6200/20000: Loss 0.031101975589990616\n",
      "Epoch 6300/20000: Loss 0.030498268082737923\n",
      "Epoch 6400/20000: Loss 0.029915807768702507\n",
      "Epoch 6500/20000: Loss 0.02935374714434147\n",
      "Epoch 6600/20000: Loss 0.028811315074563026\n",
      "Epoch 6700/20000: Loss 0.028287792578339577\n",
      "Epoch 6800/20000: Loss 0.02778240293264389\n",
      "Epoch 6900/20000: Loss 0.027294518426060677\n",
      "Epoch 7000/20000: Loss 0.02682344615459442\n",
      "Epoch 7100/20000: Loss 0.026368530467152596\n",
      "Epoch 7200/20000: Loss 0.02592921257019043\n",
      "Epoch 7300/20000: Loss 0.025504859164357185\n",
      "Epoch 7400/20000: Loss 0.025094928219914436\n",
      "Epoch 7500/20000: Loss 0.024698833003640175\n",
      "Epoch 7600/20000: Loss 0.024316098541021347\n",
      "Epoch 7700/20000: Loss 0.023946207016706467\n",
      "Epoch 7800/20000: Loss 0.023588668555021286\n",
      "Epoch 7900/20000: Loss 0.023243017494678497\n",
      "Epoch 8000/20000: Loss 0.02290881797671318\n",
      "Epoch 8100/20000: Loss 0.022585634142160416\n",
      "Epoch 8200/20000: Loss 0.022273028269410133\n",
      "Epoch 8300/20000: Loss 0.021970639005303383\n",
      "Epoch 8400/20000: Loss 0.02167806588113308\n",
      "Epoch 8500/20000: Loss 0.021394945681095123\n",
      "Epoch 8600/20000: Loss 0.02112092636525631\n",
      "Epoch 8700/20000: Loss 0.02085566148161888\n",
      "Epoch 8800/20000: Loss 0.020598839968442917\n",
      "Epoch 8900/20000: Loss 0.020350132137537003\n",
      "Epoch 9000/20000: Loss 0.020109230652451515\n",
      "Epoch 9100/20000: Loss 0.019875869154930115\n",
      "Epoch 9200/20000: Loss 0.019649747759103775\n",
      "Epoch 9300/20000: Loss 0.01943061128258705\n",
      "Epoch 9400/20000: Loss 0.019218187779188156\n",
      "Epoch 9500/20000: Loss 0.019012251868844032\n",
      "Epoch 9600/20000: Loss 0.01881253533065319\n",
      "Epoch 9700/20000: Loss 0.018618833273649216\n",
      "Epoch 9800/20000: Loss 0.018430903553962708\n",
      "Epoch 9900/20000: Loss 0.01824854500591755\n",
      "Epoch 10000/20000: Loss 0.01807156577706337\n",
      "Epoch 10100/20000: Loss 0.017899734899401665\n",
      "Epoch 10200/20000: Loss 0.017732910811901093\n",
      "Epoch 10300/20000: Loss 0.01757088117301464\n",
      "Epoch 10400/20000: Loss 0.01741347275674343\n",
      "Epoch 10500/20000: Loss 0.01726052165031433\n",
      "Epoch 10600/20000: Loss 0.017111871391534805\n",
      "Epoch 10700/20000: Loss 0.016967371106147766\n",
      "Epoch 10800/20000: Loss 0.016826853156089783\n",
      "Epoch 10900/20000: Loss 0.016690172255039215\n",
      "Epoch 11000/20000: Loss 0.01655721850693226\n",
      "Epoch 11100/20000: Loss 0.016427835449576378\n",
      "Epoch 11200/20000: Loss 0.01630190573632717\n",
      "Epoch 11300/20000: Loss 0.016179287806153297\n",
      "Epoch 11400/20000: Loss 0.01605990156531334\n",
      "Epoch 11500/20000: Loss 0.015943588688969612\n",
      "Epoch 11600/20000: Loss 0.01583026722073555\n",
      "Epoch 11700/20000: Loss 0.015719830989837646\n",
      "Epoch 11800/20000: Loss 0.015612168237566948\n",
      "Epoch 11900/20000: Loss 0.015507183037698269\n",
      "Epoch 12000/20000: Loss 0.015404795296490192\n",
      "Epoch 12100/20000: Loss 0.015304889529943466\n",
      "Epoch 12200/20000: Loss 0.015207395888864994\n",
      "Epoch 12300/20000: Loss 0.015112233348190784\n",
      "Epoch 12400/20000: Loss 0.0150193115696311\n",
      "Epoch 12500/20000: Loss 0.014928566291928291\n",
      "Epoch 12600/20000: Loss 0.014839913696050644\n",
      "Epoch 12700/20000: Loss 0.014753288589417934\n",
      "Epoch 12800/20000: Loss 0.014668602496385574\n",
      "Epoch 12900/20000: Loss 0.014585818164050579\n",
      "Epoch 13000/20000: Loss 0.01450483500957489\n",
      "Epoch 13100/20000: Loss 0.014425638131797314\n",
      "Epoch 13200/20000: Loss 0.014348134398460388\n",
      "Epoch 13300/20000: Loss 0.014272273518145084\n",
      "Epoch 13400/20000: Loss 0.014198007993400097\n",
      "Epoch 13500/20000: Loss 0.014125277288258076\n",
      "Epoch 13600/20000: Loss 0.014054032042622566\n",
      "Epoch 13700/20000: Loss 0.013984225690364838\n",
      "Epoch 13800/20000: Loss 0.01391582004725933\n",
      "Epoch 13900/20000: Loss 0.013848748989403248\n",
      "Epoch 14000/20000: Loss 0.013782992027699947\n",
      "Epoch 14100/20000: Loss 0.01371848862618208\n",
      "Epoch 14200/20000: Loss 0.013655201531946659\n",
      "Epoch 14300/20000: Loss 0.013593104667961597\n",
      "Epoch 14400/20000: Loss 0.013532143086194992\n",
      "Epoch 14500/20000: Loss 0.013472294434905052\n",
      "Epoch 14600/20000: Loss 0.01341353077441454\n",
      "Epoch 14700/20000: Loss 0.013355768285691738\n",
      "Epoch 14800/20000: Loss 0.013299047946929932\n",
      "Epoch 14900/20000: Loss 0.013243299908936024\n",
      "Epoch 15000/20000: Loss 0.013188476674258709\n",
      "Epoch 15100/20000: Loss 0.013134590350091457\n",
      "Epoch 15200/20000: Loss 0.013081605546176434\n",
      "Epoch 15300/20000: Loss 0.013029444962739944\n",
      "Epoch 15400/20000: Loss 0.012978123500943184\n",
      "Epoch 15500/20000: Loss 0.01292763464152813\n",
      "Epoch 15600/20000: Loss 0.012877939268946648\n",
      "Epoch 15700/20000: Loss 0.01282903179526329\n",
      "Epoch 15800/20000: Loss 0.012780825607478619\n",
      "Epoch 15900/20000: Loss 0.012733322568237782\n",
      "Epoch 16000/20000: Loss 0.012686521746218204\n",
      "Epoch 16100/20000: Loss 0.012640411034226418\n",
      "Epoch 16200/20000: Loss 0.012594972737133503\n",
      "Epoch 16300/20000: Loss 0.012550188228487968\n",
      "Epoch 16400/20000: Loss 0.012506021186709404\n",
      "Epoch 16500/20000: Loss 0.012462472543120384\n",
      "Epoch 16600/20000: Loss 0.012419519014656544\n",
      "Epoch 16700/20000: Loss 0.012377124279737473\n",
      "Epoch 16800/20000: Loss 0.012335298582911491\n",
      "Epoch 16900/20000: Loss 0.012294023297727108\n",
      "Epoch 17000/20000: Loss 0.01225326769053936\n",
      "Epoch 17100/20000: Loss 0.012213014997541904\n",
      "Epoch 17200/20000: Loss 0.012173268012702465\n",
      "Epoch 17300/20000: Loss 0.012134003452956676\n",
      "Epoch 17400/20000: Loss 0.012095203623175621\n",
      "Epoch 17500/20000: Loss 0.012056862004101276\n",
      "Epoch 17600/20000: Loss 0.012018988840281963\n",
      "Epoch 17700/20000: Loss 0.011981600895524025\n",
      "Epoch 17800/20000: Loss 0.011944635771214962\n",
      "Epoch 17900/20000: Loss 0.011908081360161304\n",
      "Epoch 18000/20000: Loss 0.011871925555169582\n",
      "Epoch 18100/20000: Loss 0.011836149729788303\n",
      "Epoch 18200/20000: Loss 0.011800757609307766\n",
      "Epoch 18300/20000: Loss 0.011765792965888977\n",
      "Epoch 18400/20000: Loss 0.011731193400919437\n",
      "Epoch 18500/20000: Loss 0.01169695146381855\n",
      "Epoch 18600/20000: Loss 0.011663036420941353\n",
      "Epoch 18700/20000: Loss 0.011629480868577957\n",
      "Epoch 18800/20000: Loss 0.011596305295825005\n"
     ]
    },
    {
     "name": "stdout",
     "output_type": "stream",
     "text": [
      "Epoch 18900/20000: Loss 0.011563439853489399\n",
      "Epoch 19000/20000: Loss 0.011530875228345394\n",
      "Epoch 19100/20000: Loss 0.011498632840812206\n",
      "Epoch 19200/20000: Loss 0.011466740630567074\n",
      "Epoch 19300/20000: Loss 0.011435122229158878\n",
      "Epoch 19400/20000: Loss 0.011403791606426239\n",
      "Epoch 19500/20000: Loss 0.011372771114110947\n",
      "Epoch 19600/20000: Loss 0.011342059820890427\n",
      "Epoch 19700/20000: Loss 0.011311582289636135\n",
      "Epoch 19800/20000: Loss 0.01128139067441225\n",
      "Epoch 19900/20000: Loss 0.011251499876379967\n"
     ]
    }
   ],
   "source": [
    "loss = model.fit(X_train, Y_train, 20000)"
   ]
  },
  {
   "cell_type": "code",
   "execution_count": 7,
   "metadata": {},
   "outputs": [
    {
     "data": {
      "text/plain": [
       "Text(0,0.5,'Mean Square Error')"
      ]
     },
     "execution_count": 7,
     "metadata": {},
     "output_type": "execute_result"
    },
    {
     "data": {
      "image/png": "[encoded data removed]",
      "text/plain": [
       "<matplotlib.figure.Figure at 0x1a1e52b400>"
      ]
     },
     "metadata": {},
     "output_type": "display_data"
    }
   ],
   "source": [
    "plt.plot(loss)\n",
    "plt.xlabel(\"Epochs\")\n",
    "plt.ylabel(\"Mean Square Error\")"
   ]
  },
  {
   "cell_type": "code",
   "execution_count": 8,
   "metadata": {},
   "outputs": [],
   "source": [
    "Y_pred = model.predict(np.float32(X_test))"
   ]
  },
  {
   "cell_type": "code",
   "execution_count": 9,
   "metadata": {},
   "outputs": [
    {
     "name": "stdout",
     "output_type": "stream",
     "text": [
      "R2 Score is 0.7688640977806545 and MSE 0.011896210533449397\n"
     ]
    }
   ],
   "source": [
    "print(\"R2 Score is {} and MSE {}\".format(\\\n",
    "       r2_score(y_test, Y_pred),\\\n",
    "       mean_squared_error(y_test, Y_pred)))"
   ]
  },
  {
   "cell_type": "code",
   "execution_count": 10,
   "metadata": {},
   "outputs": [
    {
     "data": {
      "text/plain": [
       "Text(0,0.5,'Predicted Net Hourly Electrical Energy Output (MW)')"
      ]
     },
     "execution_count": 10,
     "metadata": {},
     "output_type": "execute_result"
    },
    {
     "data": {
      "image/png": "[encoded data removed]",
      "text/plain": [
       "<matplotlib.figure.Figure at 0x1a1e5eb518>"
      ]
     },
     "metadata": {},
     "output_type": "display_data"
    }
   ],
   "source": [
    "plt.scatter(Y_pred, y_test)\n",
    "#plt.plot(X_test, Y_pred)\n",
    "plt.xlabel(\"Actual Net Hourly Electrical Energy Output (MW)\")\n",
    "plt.ylabel(\"Predicted Net Hourly Electrical Energy Output (MW)\")"
   ]
  },
  {
   "cell_type": "code",
   "execution_count": 11,
   "metadata": {},
   "outputs": [
    {
     "name": "stdout",
     "output_type": "stream",
     "text": [
      "The weights and biase are [array([[-0.34623718],\n",
      "       [-0.31071773],\n",
      "       [ 0.73499143],\n",
      "       [ 0.06738219]], dtype=float32), 0.37082589]\n"
     ]
    }
   ],
   "source": [
    "print(\"The weights and biase are\", model.get_weights())"
   ]
  },
  {
   "cell_type": "code",
   "execution_count": null,
   "metadata": {},
   "outputs": [],
   "source": []
  }
 ],
 "metadata": {
  "kernelspec": {
   "display_name": "Python [conda env:tensorflow]",
   "language": "python",
   "name": "conda-env-tensorflow-py"
  },
  "language_info": {
   "codemirror_mode": {
    "name": "ipython",
    "version": 3
   },
   "file_extension": ".py",
   "mimetype": "text/x-python",
   "name": "python",
   "nbconvert_exporter": "python",
   "pygments_lexer": "ipython3",
   "version": "3.5.4"
  }
 },
 "nbformat": 4,
 "nbformat_minor": 2
}
