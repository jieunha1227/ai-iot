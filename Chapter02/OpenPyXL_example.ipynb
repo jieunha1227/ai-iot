{
 "cells": [
  {
   "cell_type": "code",
   "execution_count": 1,
   "metadata": {},
   "outputs": [
    {
     "name": "stdout",
     "output_type": "stream",
     "text": [
      "Collecting openpyxl\n",
      "  Downloading openpyxl-2.5.0.tar.gz (169kB)\n",
      "\u001b[K    100% |████████████████████████████████| 174kB 393kB/s ta 0:00:01\n",
      "\u001b[?25hCollecting jdcal (from openpyxl)\n",
      "  Downloading jdcal-1.3.tar.gz\n",
      "Collecting et_xmlfile (from openpyxl)\n",
      "  Downloading et_xmlfile-1.0.1.tar.gz\n",
      "Building wheels for collected packages: openpyxl, jdcal, et-xmlfile\n",
      "  Running setup.py bdist_wheel for openpyxl ... \u001b[?25ldone\n",
      "\u001b[?25h  Stored in directory: /Users/am/Library/Caches/pip/wheels/a7/88/96/29c1f91ba5a9b94dfc39a9f6f72d0eb92d6f0d917cf2341a3f\n",
      "  Running setup.py bdist_wheel for jdcal ... \u001b[?25ldone\n",
      "\u001b[?25h  Stored in directory: /Users/am/Library/Caches/pip/wheels/0f/63/92/19ac65ed64189de4d662f269d39dd08a887258842ad2f29549\n",
      "  Running setup.py bdist_wheel for et-xmlfile ... \u001b[?25ldone\n",
      "\u001b[?25h  Stored in directory: /Users/am/Library/Caches/pip/wheels/99/f6/53/5e18f3ff4ce36c990fa90ebdf2b80cd9b44dc461f750a1a77c\n",
      "Successfully built openpyxl jdcal et-xmlfile\n",
      "Installing collected packages: jdcal, et-xmlfile, openpyxl\n",
      "Successfully installed et-xmlfile-1.0.1 jdcal-1.3 openpyxl-2.5.0\n"
     ]
    }
   ],
   "source": [
    "# Install if OpenPyXl is not already installed \n",
    "!pip install openpyxl"
   ]
  },
  {
   "cell_type": "code",
   "execution_count": 12,
   "metadata": {},
   "outputs": [
    {
     "name": "stdout",
     "output_type": "stream",
     "text": [
      "A\n"
     ]
    }
   ],
   "source": [
    "from openpyxl import Workbook\n",
    "from openpyxl.compat import range\n",
    "from openpyxl.utils import get_column_letter\n",
    "\n",
    "wb = Workbook()\n",
    "\n",
    "dest_filename = 'empty_book.xlsx'\n",
    "\n",
    "ws1 = wb.active\n",
    "ws1.title = \"range names\"\n",
    "\n",
    "for row in range(1, 40):\n",
    "     ws1.append(range(0,100,5))\n",
    "\n",
    "ws2 = wb.create_sheet(title=\"Pi\")\n",
    "ws2['F5'] = 2 * 3.14\n",
    "ws2.cell(column=1, row=5, value= 3.14)\n",
    "\n",
    "ws3 = wb.create_sheet(title=\"Data\")\n",
    "for row in range(1, 20):\n",
    "     for col in range(1, 15):\n",
    "         _ = ws3.cell(column=col, row=row, value=\"{0}\".format(get_column_letter(col)))\n",
    "print(ws3['A10'].value)\n",
    "\n",
    "wb.save(filename = dest_filename)"
   ]
  },
  {
   "cell_type": "code",
   "execution_count": 14,
   "metadata": {},
   "outputs": [
    {
     "name": "stdout",
     "output_type": "stream",
     "text": [
      "['range names', 'Pi', 'Data']\n",
      "15\n"
     ]
    },
    {
     "name": "stderr",
     "output_type": "stream",
     "text": [
      "/Users/am/anaconda3/envs/tensorflow/lib/python3.5/site-packages/ipykernel/__main__.py:4: DeprecationWarning: Call to deprecated function get_sheet_names (Use wb.sheetnames).\n"
     ]
    }
   ],
   "source": [
    "from openpyxl import load_workbook\n",
    "wb = load_workbook(filename = 'empty_book.xlsx')\n",
    "sheet_ranges = wb['range names']\n",
    "print(wb.get_sheet_names())\n",
    "print(sheet_ranges['D18'].value)"
   ]
  },
  {
   "cell_type": "code",
   "execution_count": null,
   "metadata": {},
   "outputs": [],
   "source": []
  }
 ],
 "metadata": {
  "kernelspec": {
   "display_name": "Python [conda env:tensorflow]",
   "language": "python",
   "name": "conda-env-tensorflow-py"
  },
  "language_info": {
   "codemirror_mode": {
    "name": "ipython",
    "version": 3
   },
   "file_extension": ".py",
   "mimetype": "text/x-python",
   "name": "python",
   "nbconvert_exporter": "python",
   "pygments_lexer": "ipython3",
   "version": "3.5.4"
  }
 },
 "nbformat": 4,
 "nbformat_minor": 2
}
