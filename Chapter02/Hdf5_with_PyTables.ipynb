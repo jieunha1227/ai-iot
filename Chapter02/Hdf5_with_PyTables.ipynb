{
 "cells": [
  {
   "cell_type": "code",
   "execution_count": 1,
   "metadata": {},
   "outputs": [],
   "source": [
    "# Import module and create a random d\n",
    "import numpy as np\n",
    "arr = np.random.rand(5,4)\n",
    "np.savetxt('temp.csv', arr, delimiter=',')"
   ]
  },
  {
   "cell_type": "code",
   "execution_count": 2,
   "metadata": {},
   "outputs": [],
   "source": [
    "arr = np.loadtxt('temp.csv', skiprows=1, usecols=(2,3),\n",
    "            delimiter=',')"
   ]
  },
  {
   "cell_type": "code",
   "execution_count": 3,
   "metadata": {},
   "outputs": [],
   "source": [
    "import tables\n",
    "h5filename = 'pytable_demo.hdf5'\n",
    "with tables.open_file(h5filename,mode='w') as h5file:\n",
    "    root = h5file.root\n",
    "    h5file.create_array(root,'global_power',arr)\n",
    "    h5file.close()\n",
    "    "
   ]
  },
  {
   "cell_type": "code",
   "execution_count": 4,
   "metadata": {},
   "outputs": [
    {
     "name": "stdout",
     "output_type": "stream",
     "text": [
      "<class 'numpy.ndarray'> (4, 2)\n",
      "[[0.66775171 0.5654945 ]\n",
      " [0.31355147 0.37325779]\n",
      " [0.25665679 0.79335901]\n",
      " [0.96372349 0.45597874]]\n"
     ]
    }
   ],
   "source": [
    "with tables.open_file(h5filename,mode='r') as h5file:\n",
    "    root = h5file.root\n",
    "    for node in h5file.root:\n",
    "        ds = node.read()\n",
    "        print(type(ds),ds.shape)\n",
    "        print(ds)"
   ]
  },
  {
   "cell_type": "code",
   "execution_count": null,
   "metadata": {},
   "outputs": [],
   "source": []
  }
 ],
 "metadata": {
  "kernelspec": {
   "display_name": "Python [conda env:anaconda3]",
   "language": "python",
   "name": "conda-env-anaconda3-py"
  },
  "language_info": {
   "codemirror_mode": {
    "name": "ipython",
    "version": 3
   },
   "file_extension": ".py",
   "mimetype": "text/x-python",
   "name": "python",
   "nbconvert_exporter": "python",
   "pygments_lexer": "ipython3",
   "version": "3.6.5"
  }
 },
 "nbformat": 4,
 "nbformat_minor": 2
}
