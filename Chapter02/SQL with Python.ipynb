{
 "cells": [
  {
   "cell_type": "code",
   "execution_count": 1,
   "metadata": {},
   "outputs": [
    {
     "name": "stdout",
     "output_type": "stream",
     "text": [
      "Database opened successfully\n"
     ]
    }
   ],
   "source": [
    "import sqlite3 \n",
    "import pandas as pd\n",
    "connection = sqlite3.connect('database.sqlite')\n",
    "print(\"Database opened successfully\")"
   ]
  },
  {
   "cell_type": "code",
   "execution_count": 2,
   "metadata": {},
   "outputs": [
    {
     "name": "stdout",
     "output_type": "stream",
     "text": [
      "    type               name           tbl_name  rootpage  \\\n",
      "0  table    sqlite_sequence    sqlite_sequence         4   \n",
      "1  table  Player_Attributes  Player_Attributes        11   \n",
      "2  table             Player             Player        14   \n",
      "3  table              Match              Match        18   \n",
      "4  table             League             League        24   \n",
      "5  table            Country            Country        26   \n",
      "6  table               Team               Team        29   \n",
      "7  table    Team_Attributes    Team_Attributes         2   \n",
      "\n",
      "                                                 sql  \n",
      "0             CREATE TABLE sqlite_sequence(name,seq)  \n",
      "1  CREATE TABLE \"Player_Attributes\" (\\n\\t`id`\\tIN...  \n",
      "2  CREATE TABLE `Player` (\\n\\t`id`\\tINTEGER PRIMA...  \n",
      "3  CREATE TABLE `Match` (\\n\\t`id`\\tINTEGER PRIMAR...  \n",
      "4  CREATE TABLE `League` (\\n\\t`id`\\tINTEGER PRIMA...  \n",
      "5  CREATE TABLE `Country` (\\n\\t`id`\\tINTEGER PRIM...  \n",
      "6  CREATE TABLE \"Team\" (\\n\\t`id`\\tINTEGER PRIMARY...  \n",
      "7  CREATE TABLE `Team_Attributes` (\\n\\t`id`\\tINTE...  \n"
     ]
    }
   ],
   "source": [
    "tables = pd.read_sql(\"SELECT * FROM sqlite_master WHERE type='table';\", connection)\n",
    "print(tables)"
   ]
  },
  {
   "cell_type": "code",
   "execution_count": 3,
   "metadata": {},
   "outputs": [],
   "source": [
    "countries = pd.read_sql(\"SELECT * FROM Country;\", connection)"
   ]
  },
  {
   "cell_type": "code",
   "execution_count": 4,
   "metadata": {},
   "outputs": [
    {
     "data": {
      "text/html": [
       "<div>\n",
       "<style scoped>\n",
       "    .dataframe tbody tr th:only-of-type {\n",
       "        vertical-align: middle;\n",
       "    }\n",
       "\n",
       "    .dataframe tbody tr th {\n",
       "        vertical-align: top;\n",
       "    }\n",
       "\n",
       "    .dataframe thead th {\n",
       "        text-align: right;\n",
       "    }\n",
       "</style>\n",
       "<table border=\"1\" class=\"dataframe\">\n",
       "  <thead>\n",
       "    <tr style=\"text-align: right;\">\n",
       "      <th></th>\n",
       "      <th>id</th>\n",
       "      <th>name</th>\n",
       "    </tr>\n",
       "  </thead>\n",
       "  <tbody>\n",
       "    <tr>\n",
       "      <th>0</th>\n",
       "      <td>1</td>\n",
       "      <td>Belgium</td>\n",
       "    </tr>\n",
       "    <tr>\n",
       "      <th>1</th>\n",
       "      <td>1729</td>\n",
       "      <td>England</td>\n",
       "    </tr>\n",
       "    <tr>\n",
       "      <th>2</th>\n",
       "      <td>4769</td>\n",
       "      <td>France</td>\n",
       "    </tr>\n",
       "    <tr>\n",
       "      <th>3</th>\n",
       "      <td>7809</td>\n",
       "      <td>Germany</td>\n",
       "    </tr>\n",
       "    <tr>\n",
       "      <th>4</th>\n",
       "      <td>10257</td>\n",
       "      <td>Italy</td>\n",
       "    </tr>\n",
       "  </tbody>\n",
       "</table>\n",
       "</div>"
      ],
      "text/plain": [
       "      id     name\n",
       "0      1  Belgium\n",
       "1   1729  England\n",
       "2   4769   France\n",
       "3   7809  Germany\n",
       "4  10257    Italy"
      ]
     },
     "execution_count": 4,
     "metadata": {},
     "output_type": "execute_result"
    }
   ],
   "source": [
    "countries.head()"
   ]
  },
  {
   "cell_type": "code",
   "execution_count": 5,
   "metadata": {},
   "outputs": [
    {
     "data": {
      "text/html": [
       "<div>\n",
       "<style scoped>\n",
       "    .dataframe tbody tr th:only-of-type {\n",
       "        vertical-align: middle;\n",
       "    }\n",
       "\n",
       "    .dataframe tbody tr th {\n",
       "        vertical-align: top;\n",
       "    }\n",
       "\n",
       "    .dataframe thead th {\n",
       "        text-align: right;\n",
       "    }\n",
       "</style>\n",
       "<table border=\"1\" class=\"dataframe\">\n",
       "  <thead>\n",
       "    <tr style=\"text-align: right;\">\n",
       "      <th></th>\n",
       "      <th>id</th>\n",
       "      <th>player_api_id</th>\n",
       "      <th>player_name</th>\n",
       "      <th>player_fifa_api_id</th>\n",
       "      <th>birthday</th>\n",
       "      <th>height</th>\n",
       "      <th>weight</th>\n",
       "    </tr>\n",
       "  </thead>\n",
       "  <tbody>\n",
       "    <tr>\n",
       "      <th>0</th>\n",
       "      <td>1</td>\n",
       "      <td>505942</td>\n",
       "      <td>Aaron Appindangoye</td>\n",
       "      <td>218353</td>\n",
       "      <td>1992-02-29 00:00:00</td>\n",
       "      <td>182.88</td>\n",
       "      <td>187</td>\n",
       "    </tr>\n",
       "    <tr>\n",
       "      <th>1</th>\n",
       "      <td>2</td>\n",
       "      <td>155782</td>\n",
       "      <td>Aaron Cresswell</td>\n",
       "      <td>189615</td>\n",
       "      <td>1989-12-15 00:00:00</td>\n",
       "      <td>170.18</td>\n",
       "      <td>146</td>\n",
       "    </tr>\n",
       "    <tr>\n",
       "      <th>2</th>\n",
       "      <td>3</td>\n",
       "      <td>162549</td>\n",
       "      <td>Aaron Doran</td>\n",
       "      <td>186170</td>\n",
       "      <td>1991-05-13 00:00:00</td>\n",
       "      <td>170.18</td>\n",
       "      <td>163</td>\n",
       "    </tr>\n",
       "    <tr>\n",
       "      <th>3</th>\n",
       "      <td>4</td>\n",
       "      <td>30572</td>\n",
       "      <td>Aaron Galindo</td>\n",
       "      <td>140161</td>\n",
       "      <td>1982-05-08 00:00:00</td>\n",
       "      <td>182.88</td>\n",
       "      <td>198</td>\n",
       "    </tr>\n",
       "    <tr>\n",
       "      <th>4</th>\n",
       "      <td>5</td>\n",
       "      <td>23780</td>\n",
       "      <td>Aaron Hughes</td>\n",
       "      <td>17725</td>\n",
       "      <td>1979-11-08 00:00:00</td>\n",
       "      <td>182.88</td>\n",
       "      <td>154</td>\n",
       "    </tr>\n",
       "  </tbody>\n",
       "</table>\n",
       "</div>"
      ],
      "text/plain": [
       "   id  player_api_id         player_name  player_fifa_api_id  \\\n",
       "0   1         505942  Aaron Appindangoye              218353   \n",
       "1   2         155782     Aaron Cresswell              189615   \n",
       "2   3         162549         Aaron Doran              186170   \n",
       "3   4          30572       Aaron Galindo              140161   \n",
       "4   5          23780        Aaron Hughes               17725   \n",
       "\n",
       "              birthday  height  weight  \n",
       "0  1992-02-29 00:00:00  182.88     187  \n",
       "1  1989-12-15 00:00:00  170.18     146  \n",
       "2  1991-05-13 00:00:00  170.18     163  \n",
       "3  1982-05-08 00:00:00  182.88     198  \n",
       "4  1979-11-08 00:00:00  182.88     154  "
      ]
     },
     "execution_count": 5,
     "metadata": {},
     "output_type": "execute_result"
    }
   ],
   "source": [
    "players = pd.read_sql_query(\"SELECT * FROM Player\", connection)\n",
    "players.head()"
   ]
  },
  {
   "cell_type": "code",
   "execution_count": 6,
   "metadata": {},
   "outputs": [
    {
     "name": "stdout",
     "output_type": "stream",
     "text": [
      "         id  player_api_id            player_name  player_fifa_api_id  \\\n",
      "0         1         505942     Aaron Appindangoye              218353   \n",
      "1         4          30572          Aaron Galindo              140161   \n",
      "2         9         528212           Aaron Lennox              206592   \n",
      "3        11          23889          Aaron Mokoena               47189   \n",
      "4        17         161644  Aaron Taylor-Sinclair              213569   \n",
      "5        20          46447              Abasse Ba              156626   \n",
      "6        24          42664     Abdelkader Ghezzal              178063   \n",
      "7        29         306735    Abdelouahed Chakhsi              210504   \n",
      "8        31          31684       Abdeslam Ouaddou               33022   \n",
      "9        32          32637  Abdessalam Benjelloun              177295   \n",
      "10       34          41093           Abdou Traore              187048   \n",
      "11       35         564712              Abdoul Ba              225050   \n",
      "12       39         191784           Abdoulaye Ba              204826   \n",
      "13       43         189181       Abdoulaye Diallo              197233   \n",
      "14       45          40005         Abdoulaye Faye              100329   \n",
      "15       47          37280        Abdoulaye Meite               41745   \n",
      "16       48         439366        Abdoulaye Toure              210450   \n",
      "17       51         419681      Abdul Aziz Tetteh              190193   \n",
      "18       56          31012       Abdulkader Keita              157191   \n",
      "19       61          24385           Abel Aguilar              177974   \n",
      "20       64         172875       Abel Issa Camara              208005   \n",
      "21       66         240556            Abel Tamata              202153   \n",
      "22       68          37422     Abella Perez Damia              159580   \n",
      "23       71         181344       Aboubacar Tandia              138675   \n",
      "24       76         208635        Abraham Kudemor              202600   \n",
      "25       79          41489          Achille Coser              163901   \n",
      "26       80          25571          Achille Emana              112392   \n",
      "27       85          26331               Adailton              158505   \n",
      "28       87         495841    Adalberto Penaranda              231638   \n",
      "29       89          68840             Adam Banas              189047   \n",
      "...     ...            ...                    ...                 ...   \n",
      "4846  11005         274787             Yvon Mvogo              206003   \n",
      "4847  11006         210682       Zacharie Boucher              201138   \n",
      "4848  11009          33076          Zak Whitbread              138155   \n",
      "4849  11011         208688         Zakaria Diallo              200067   \n",
      "4850  11018         172489           Zander Clark              204269   \n",
      "4851  11021         181312        Zarko Tomasevic              193690   \n",
      "4852  11023         115585            Zaur Sadaev              187590   \n",
      "4853  11025          32633     Zbigniew Malkowski              139865   \n",
      "4854  11026          30861         Zdenek Grygera               40988   \n",
      "4855  11027          36547           Zdenek Kroca              185004   \n",
      "4856  11028          89251        Zdenek Ondrasek              189655   \n",
      "4857  11030          25772     Zdravko Kuzmanovic              168650   \n",
      "4858  11032          34104              Ze Castro              157947   \n",
      "4859  11033         128047             Ze Eduardo              188001   \n",
      "4860  11035         306167                Ze Luis              203757   \n",
      "4861  11042         157284           Zeljko Brkic              195090   \n",
      "4862  11043          30850           Zeljko Kalac               51883   \n",
      "4863  11050         244953           Ziggy Gordon              223263   \n",
      "4864  11053         277772             Zinho Gano              204227   \n",
      "4865  11056          27305      Zlatan Bajramovic               31667   \n",
      "4866  11057          35724     Zlatan Ibrahimovic               41236   \n",
      "4867  11058          12574     Zlatan Ljubijankic              176103   \n",
      "4868  11059          39494           Zlatko Dedic              141111   \n",
      "4869  11060          17233          Zlatko Janjic              188405   \n",
      "4870  11065          39801         Zoltan Szelesi              157283   \n",
      "4871  11067          56929         Zoran Rendulic              188593   \n",
      "4872  11070         282473         Zouhair Feddal              205705   \n",
      "4873  11072         111182           Zsolt Laczko              164680   \n",
      "4874  11074          35506    Zurab Khizanishvili               47058   \n",
      "4875  11075          39902     Zvjezdan Misimovic              102359   \n",
      "\n",
      "                 birthday  height  weight  \n",
      "0     1992-02-29 00:00:00  182.88     187  \n",
      "1     1982-05-08 00:00:00  182.88     198  \n",
      "2     1993-02-19 00:00:00  190.50     181  \n",
      "3     1980-11-25 00:00:00  182.88     181  \n",
      "4     1991-04-08 00:00:00  182.88     176  \n",
      "5     1976-07-12 00:00:00  187.96     185  \n",
      "6     1984-12-05 00:00:00  182.88     172  \n",
      "7     1986-10-01 00:00:00  182.88     170  \n",
      "8     1978-11-01 00:00:00  190.50     181  \n",
      "9     1985-01-28 00:00:00  187.96     179  \n",
      "10    1988-01-17 00:00:00  180.34     174  \n",
      "11    1994-02-08 00:00:00  200.66     212  \n",
      "12    1991-01-01 00:00:00  198.12     174  \n",
      "13    1992-03-30 00:00:00  187.96     174  \n",
      "14    1978-02-26 00:00:00  187.96     218  \n",
      "15    1980-10-06 00:00:00  185.42     181  \n",
      "16    1994-03-03 00:00:00  187.96     170  \n",
      "17    1989-02-10 00:00:00  182.88     190  \n",
      "18    1981-08-06 00:00:00  182.88     172  \n",
      "19    1985-01-06 00:00:00  185.42     176  \n",
      "20    1990-01-06 00:00:00  185.42     179  \n",
      "21    1990-12-05 00:00:00  182.88     170  \n",
      "22    1982-04-15 00:00:00  187.96     174  \n",
      "23    1983-10-05 00:00:00  193.04     185  \n",
      "24    1985-02-25 00:00:00  182.88     179  \n",
      "25    1982-07-14 00:00:00  185.42     174  \n",
      "26    1982-06-05 00:00:00  180.34     170  \n",
      "27    1983-04-14 00:00:00  190.50     187  \n",
      "28    1997-05-31 00:00:00  182.88     172  \n",
      "29    1982-12-25 00:00:00  185.42     174  \n",
      "...                   ...     ...     ...  \n",
      "4846  1994-06-06 00:00:00  187.96     185  \n",
      "4847  1992-03-07 00:00:00  180.34     174  \n",
      "4848  1984-01-10 00:00:00  187.96     172  \n",
      "4849  1986-08-13 00:00:00  193.04     194  \n",
      "4850  1992-06-26 00:00:00  195.58     170  \n",
      "4851  1990-02-22 00:00:00  187.96     187  \n",
      "4852  1989-11-06 00:00:00  182.88     172  \n",
      "4853  1978-01-19 00:00:00  187.96     181  \n",
      "4854  1980-05-14 00:00:00  185.42     172  \n",
      "4855  1980-09-29 00:00:00  193.04     196  \n",
      "4856  1988-12-22 00:00:00  185.42     174  \n",
      "4857  1987-09-22 00:00:00  185.42     176  \n",
      "4858  1983-01-13 00:00:00  182.88     181  \n",
      "4859  1991-08-16 00:00:00  185.42     194  \n",
      "4860  1991-01-24 00:00:00  185.42     185  \n",
      "4861  1986-07-09 00:00:00  198.12     209  \n",
      "4862  1972-12-16 00:00:00  203.20     209  \n",
      "4863  1993-04-23 00:00:00  180.34     170  \n",
      "4864  1993-10-13 00:00:00  198.12     205  \n",
      "4865  1979-08-12 00:00:00  182.88     174  \n",
      "4866  1981-10-03 00:00:00  195.58     209  \n",
      "4867  1983-12-15 00:00:00  185.42     176  \n",
      "4868  1984-10-05 00:00:00  182.88     170  \n",
      "4869  1986-05-07 00:00:00  187.96     183  \n",
      "4870  1981-11-22 00:00:00  182.88     176  \n",
      "4871  1984-05-22 00:00:00  190.50     179  \n",
      "4872  1989-01-01 00:00:00  190.50     172  \n",
      "4873  1986-12-18 00:00:00  182.88     176  \n",
      "4874  1981-10-06 00:00:00  185.42     172  \n",
      "4875  1982-06-05 00:00:00  180.34     176  \n",
      "\n",
      "[4876 rows x 7 columns]\n"
     ]
    }
   ],
   "source": [
    "selected_players = pd.read_sql_query(\"SELECT * FROM Player WHERE height >= 180 AND weight >= 170 \", connection)\n",
    "print(selected_players)"
   ]
  },
  {
   "cell_type": "code",
   "execution_count": 7,
   "metadata": {},
   "outputs": [
    {
     "name": "stdout",
     "output_type": "stream",
     "text": [
      "Requirement already satisfied: mysql-connector-python in /Users/am/anaconda3/lib/python3.6/site-packages (8.0.12)\n",
      "Requirement already satisfied: protobuf>=3.0.0 in /Users/am/anaconda3/lib/python3.6/site-packages (from mysql-connector-python) (3.6.1)\n",
      "Requirement already satisfied: six>=1.9 in /Users/am/anaconda3/lib/python3.6/site-packages (from protobuf>=3.0.0->mysql-connector-python) (1.11.0)\n",
      "Requirement already satisfied: setuptools in /Users/am/anaconda3/lib/python3.6/site-packages (from protobuf>=3.0.0->mysql-connector-python) (39.1.0)\n",
      "\u001b[31mdistributed 1.21.8 requires msgpack, which is not installed.\u001b[0m\n",
      "\u001b[33mYou are using pip version 10.0.1, however version 18.0 is available.\n",
      "You should consider upgrading via the 'pip install --upgrade pip' command.\u001b[0m\n"
     ]
    }
   ],
   "source": [
    "! pip install mysql-connector-python"
   ]
  },
  {
   "cell_type": "code",
   "execution_count": 2,
   "metadata": {},
   "outputs": [],
   "source": [
    "import mysql.connector \n"
   ]
  },
  {
   "cell_type": "code",
   "execution_count": 3,
   "metadata": {},
   "outputs": [],
   "source": [
    "connection = mysql.connector.connect(host=\"127.0.0.1\",  # your host \n",
    "                    user=\"root\",                        # username\n",
    "                    password=\"reddel17R\" )              # password "
   ]
  },
  {
   "cell_type": "code",
   "execution_count": 4,
   "metadata": {},
   "outputs": [
    {
     "name": "stdout",
     "output_type": "stream",
     "text": [
      "<mysql.connector.connection_cext.CMySQLConnection object at 0x107a69550>\n"
     ]
    }
   ],
   "source": [
    "print(connection)"
   ]
  },
  {
   "cell_type": "code",
   "execution_count": 5,
   "metadata": {},
   "outputs": [
    {
     "name": "stdout",
     "output_type": "stream",
     "text": [
      "('information_schema',)\n",
      "('mysql',)\n",
      "('performance_schema',)\n",
      "('sys',)\n"
     ]
    }
   ],
   "source": [
    "mycursor = connection.cursor()\n",
    "mycursor.execute(\"SHOW DATABASES\")\n",
    "for x in mycursor:\n",
    "  print(x) "
   ]
  },
  {
   "cell_type": "code",
   "execution_count": 6,
   "metadata": {},
   "outputs": [],
   "source": [
    "connection = mysql.connector.connect(host=\"127.0.0.1\",  # your host \n",
    "                    user=\"root\",                        # username\n",
    "                    password=\"reddel17R\" ,\n",
    "                    database = 'mysql') "
   ]
  },
  {
   "cell_type": "code",
   "execution_count": 7,
   "metadata": {},
   "outputs": [
    {
     "name": "stdout",
     "output_type": "stream",
     "text": [
      "('columns_priv',)\n",
      "('component',)\n",
      "('db',)\n",
      "('default_roles',)\n",
      "('engine_cost',)\n",
      "('func',)\n",
      "('general_log',)\n",
      "('global_grants',)\n",
      "('gtid_executed',)\n",
      "('help_category',)\n",
      "('help_keyword',)\n",
      "('help_relation',)\n",
      "('help_topic',)\n",
      "('innodb_index_stats',)\n",
      "('innodb_table_stats',)\n",
      "('password_history',)\n",
      "('plugin',)\n",
      "('procs_priv',)\n",
      "('proxies_priv',)\n",
      "('role_edges',)\n",
      "('server_cost',)\n",
      "('servers',)\n",
      "('slave_master_info',)\n",
      "('slave_relay_log_info',)\n",
      "('slave_worker_info',)\n",
      "('slow_log',)\n",
      "('tables_priv',)\n",
      "('time_zone',)\n",
      "('time_zone_leap_second',)\n",
      "('time_zone_name',)\n",
      "('time_zone_transition',)\n",
      "('time_zone_transition_type',)\n",
      "('user',)\n"
     ]
    }
   ],
   "source": [
    "mycursor = connection.cursor()\n",
    "mycursor.execute(\"SHOW TABLES\")\n",
    "for x in mycursor:\n",
    "  print(x) "
   ]
  },
  {
   "cell_type": "code",
   "execution_count": null,
   "metadata": {},
   "outputs": [],
   "source": []
  }
 ],
 "metadata": {
  "kernelspec": {
   "display_name": "Python 3",
   "language": "python",
   "name": "python3"
  },
  "language_info": {
   "codemirror_mode": {
    "name": "ipython",
    "version": 3
   },
   "file_extension": ".py",
   "mimetype": "text/x-python",
   "name": "python",
   "nbconvert_exporter": "python",
   "pygments_lexer": "ipython3",
   "version": "3.6.5"
  }
 },
 "nbformat": 4,
 "nbformat_minor": 2
}
