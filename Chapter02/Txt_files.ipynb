{
 "cells": [
  {
   "cell_type": "code",
   "execution_count": 32,
   "metadata": {},
   "outputs": [],
   "source": [
    "data_folder = '../../data/Shakespeare'\n",
    "data_file = 'alllines.txt'"
   ]
  },
  {
   "cell_type": "code",
   "execution_count": 37,
   "metadata": {},
   "outputs": [],
   "source": [
    "import os\n",
    "\n",
    "#f = open(os.path.join(data_folder,data_file),newline='') \n",
    "f = open(data_file)\n",
    "contents = f.read()"
   ]
  },
  {
   "cell_type": "code",
   "execution_count": 44,
   "metadata": {},
   "outputs": [
    {
     "name": "stdout",
     "output_type": "stream",
     "text": [
      "\"ACT I\"\n",
      "\"SCENE I. London. The palace.\"\n",
      "\"Enter KING HENRY, LORD JOHN OF LANCASTER, the EARL of WESTMORELAND, SIR WALTER BLUNT, and others\"\n",
      "\"So shaken as we are, so wan with care,\"\n",
      "\"Find we a time for frighted peace to pant,\"\n",
      "\"And breathe short-winded accents of new broils\"\n",
      "\"To be commenced in strands afar remote.\"\n",
      "\"No more the thirsty entrance of this soil\"\n",
      "\"Shall daub her lips with her own children's blood,\"\n",
      "\"Nor more shall trenching war channel her fields,\"\n",
      "\"Nor bruise her flowerets with the armed hoofs\"\n",
      "\"Of hostile paces: those opposed eyes,\"\n",
      "\"Which, like the meteors of a troubled heaven,\"\n",
      "\"All of one nature, of one substance bred,\"\n",
      "\"Did lately meet in the intestine shock\"\n",
      "\"And furious close of civil butchery\"\n",
      "\"Shall now, in mutual well-beseeming ranks,\"\n",
      "\"March all one way and be no more opposed\"\n",
      "\"Against acquaintance, kindred and allies:\"\n",
      "\"The edge of war, like an ill-sheathed knife,\"\n",
      "\"No more shall cut his master. Therefore, friends,\"\n",
      "\"As far as to the sepulchre of Christ,\"\n",
      "\"Whose \n"
     ]
    }
   ],
   "source": [
    "print(contents[:1000])\n"
   ]
  },
  {
   "cell_type": "code",
   "execution_count": 42,
   "metadata": {},
   "outputs": [
    {
     "data": {
      "text/plain": [
       "4583798"
      ]
     },
     "execution_count": 42,
     "metadata": {},
     "output_type": "execute_result"
    }
   ],
   "source": [
    "len(contents)"
   ]
  },
  {
   "cell_type": "code",
   "execution_count": 46,
   "metadata": {},
   "outputs": [],
   "source": [
    "import numpy as np\n",
    "data_file = 'household_power_consumption.txt'"
   ]
  },
  {
   "cell_type": "code",
   "execution_count": 54,
   "metadata": {},
   "outputs": [
    {
     "name": "stdout",
     "output_type": "stream",
     "text": [
      "['Date;Time;Global_active_power;Global_reactive_power;Voltage;Global_intensity;Sub_metering_1;Sub_metering_2;Sub_metering_3'\n",
      " '16/12/2006;17:24:00;4.216;0.418;234.840;18.400;0.000;1.000;17.000'\n",
      " '16/12/2006;17:25:00;5.360;0.436;233.630;23.000;0.000;1.000;16.000'\n",
      " '16/12/2006;17:26:00;5.374;0.498;233.290;23.000;0.000;2.000;17.000'\n",
      " '16/12/2006;17:27:00;5.388;0.502;233.740;23.000;0.000;1.000;17.000'\n",
      " '16/12/2006;17:28:00;3.666;0.528;235.680;15.800;0.000;1.000;17.000'\n",
      " '16/12/2006;17:29:00;3.520;0.522;235.020;15.000;0.000;2.000;17.000'\n",
      " '16/12/2006;17:30:00;3.702;0.520;235.090;15.800;0.000;1.000;17.000'\n",
      " '16/12/2006;17:31:00;3.700;0.520;235.220;15.800;0.000;1.000;17.000'\n",
      " '16/12/2006;17:32:00;3.668;0.510;233.990;15.800;0.000;1.000;17.000']\n"
     ]
    }
   ],
   "source": [
    "data = np.genfromtxt(data_file,dtype='str')\n",
    "print(data[:10])"
   ]
  },
  {
   "cell_type": "code",
   "execution_count": null,
   "metadata": {},
   "outputs": [],
   "source": []
  }
 ],
 "metadata": {
  "kernelspec": {
   "display_name": "Python 3",
   "language": "python",
   "name": "python3"
  },
  "language_info": {
   "codemirror_mode": {
    "name": "ipython",
    "version": 3
   },
   "file_extension": ".py",
   "mimetype": "text/x-python",
   "name": "python",
   "nbconvert_exporter": "python",
   "pygments_lexer": "ipython3",
   "version": "3.6.5"
  }
 },
 "nbformat": 4,
 "nbformat_minor": 2
}
