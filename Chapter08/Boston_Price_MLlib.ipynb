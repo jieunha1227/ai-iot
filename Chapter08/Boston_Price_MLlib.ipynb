{
 "cells": [
  {
   "cell_type": "code",
   "execution_count": 1,
   "metadata": {},
   "outputs": [],
   "source": [
    "from pyspark.ml.regression import LinearRegression as LR\n",
    "from pyspark.ml.feature import VectorAssembler\n",
    "from pyspark.ml.evaluation import RegressionEvaluator\n",
    "\n",
    "from pyspark.sql import SparkSession\n",
    "\n",
    "spark = SparkSession.builder \\\n",
    "      .appName(\"Boston Price Prediction\") \\\n",
    "      .config(\"spark.executor.memory\", \"70g\") \\\n",
    "      .config(\"spark.driver.memory\", \"50g\") \\\n",
    "      .config(\"spark.memory.offHeap.enabled\",True) \\\n",
    "      .config(\"spark.memory.offHeap.size\",\"16g\") \\\n",
    "      .getOrCreate()"
   ]
  },
  {
   "cell_type": "code",
   "execution_count": 2,
   "metadata": {},
   "outputs": [],
   "source": [
    "house_df = spark.read.format(\"csv\"). \\\n",
    "            options(header=\"true\", inferschema=\"true\"). \\\n",
    "            load(\"boston/train.csv\")"
   ]
  },
  {
   "cell_type": "code",
   "execution_count": 3,
   "metadata": {},
   "outputs": [
    {
     "name": "stdout",
     "output_type": "stream",
     "text": [
      "+---+-------+----+-----+----+-----+-----+----+------+---+---+-------+------+-----+----+\n",
      "| ID|   crim|  zn|indus|chas|  nox|   rm| age|   dis|rad|tax|ptratio| black|lstat|medv|\n",
      "+---+-------+----+-----+----+-----+-----+----+------+---+---+-------+------+-----+----+\n",
      "|  1|0.00632|18.0| 2.31|   0|0.538|6.575|65.2|  4.09|  1|296|   15.3| 396.9| 4.98|24.0|\n",
      "|  2|0.02731| 0.0| 7.07|   0|0.469|6.421|78.9|4.9671|  2|242|   17.8| 396.9| 9.14|21.6|\n",
      "|  4|0.03237| 0.0| 2.18|   0|0.458|6.998|45.8|6.0622|  3|222|   18.7|394.63| 2.94|33.4|\n",
      "+---+-------+----+-----+----+-----+-----+----+------+---+---+-------+------+-----+----+\n",
      "only showing top 3 rows\n",
      "\n"
     ]
    }
   ],
   "source": [
    "house_df.show(3)"
   ]
  },
  {
   "cell_type": "code",
   "execution_count": 4,
   "metadata": {},
   "outputs": [
    {
     "name": "stdout",
     "output_type": "stream",
     "text": [
      "root\n",
      " |-- ID: integer (nullable = true)\n",
      " |-- crim: double (nullable = true)\n",
      " |-- zn: double (nullable = true)\n",
      " |-- indus: double (nullable = true)\n",
      " |-- chas: integer (nullable = true)\n",
      " |-- nox: double (nullable = true)\n",
      " |-- rm: double (nullable = true)\n",
      " |-- age: double (nullable = true)\n",
      " |-- dis: double (nullable = true)\n",
      " |-- rad: integer (nullable = true)\n",
      " |-- tax: integer (nullable = true)\n",
      " |-- ptratio: double (nullable = true)\n",
      " |-- black: double (nullable = true)\n",
      " |-- lstat: double (nullable = true)\n",
      " |-- medv: double (nullable = true)\n",
      "\n"
     ]
    }
   ],
   "source": [
    "# DataFrame Schema\n",
    "house_df.printSchema()"
   ]
  },
  {
   "cell_type": "code",
   "execution_count": 5,
   "metadata": {},
   "outputs": [
    {
     "data": {
      "text/html": [
       "<div>\n",
       "<style scoped>\n",
       "    .dataframe tbody tr th:only-of-type {\n",
       "        vertical-align: middle;\n",
       "    }\n",
       "\n",
       "    .dataframe tbody tr th {\n",
       "        vertical-align: top;\n",
       "    }\n",
       "\n",
       "    .dataframe thead th {\n",
       "        text-align: right;\n",
       "    }\n",
       "</style>\n",
       "<table border=\"1\" class=\"dataframe\">\n",
       "  <thead>\n",
       "    <tr style=\"text-align: right;\">\n",
       "      <th></th>\n",
       "      <th>0</th>\n",
       "      <th>1</th>\n",
       "      <th>2</th>\n",
       "      <th>3</th>\n",
       "      <th>4</th>\n",
       "    </tr>\n",
       "  </thead>\n",
       "  <tbody>\n",
       "    <tr>\n",
       "      <th>summary</th>\n",
       "      <td>count</td>\n",
       "      <td>mean</td>\n",
       "      <td>stddev</td>\n",
       "      <td>min</td>\n",
       "      <td>max</td>\n",
       "    </tr>\n",
       "    <tr>\n",
       "      <th>ID</th>\n",
       "      <td>333</td>\n",
       "      <td>250.95195195195194</td>\n",
       "      <td>147.8594378018597</td>\n",
       "      <td>1</td>\n",
       "      <td>506</td>\n",
       "    </tr>\n",
       "    <tr>\n",
       "      <th>crim</th>\n",
       "      <td>333</td>\n",
       "      <td>3.3603414714714708</td>\n",
       "      <td>7.352271836781104</td>\n",
       "      <td>0.00632</td>\n",
       "      <td>73.5341</td>\n",
       "    </tr>\n",
       "    <tr>\n",
       "      <th>zn</th>\n",
       "      <td>333</td>\n",
       "      <td>10.68918918918919</td>\n",
       "      <td>22.674761796618217</td>\n",
       "      <td>0.0</td>\n",
       "      <td>100.0</td>\n",
       "    </tr>\n",
       "    <tr>\n",
       "      <th>indus</th>\n",
       "      <td>333</td>\n",
       "      <td>11.29348348348346</td>\n",
       "      <td>6.998123104477312</td>\n",
       "      <td>0.74</td>\n",
       "      <td>27.74</td>\n",
       "    </tr>\n",
       "    <tr>\n",
       "      <th>chas</th>\n",
       "      <td>333</td>\n",
       "      <td>0.06006006006006006</td>\n",
       "      <td>0.2379556428164483</td>\n",
       "      <td>0</td>\n",
       "      <td>1</td>\n",
       "    </tr>\n",
       "    <tr>\n",
       "      <th>nox</th>\n",
       "      <td>333</td>\n",
       "      <td>0.557144144144145</td>\n",
       "      <td>0.11495450830289312</td>\n",
       "      <td>0.385</td>\n",
       "      <td>0.871</td>\n",
       "    </tr>\n",
       "    <tr>\n",
       "      <th>rm</th>\n",
       "      <td>333</td>\n",
       "      <td>6.265618618618616</td>\n",
       "      <td>0.7039515757334471</td>\n",
       "      <td>3.561</td>\n",
       "      <td>8.725</td>\n",
       "    </tr>\n",
       "    <tr>\n",
       "      <th>age</th>\n",
       "      <td>333</td>\n",
       "      <td>68.22642642642641</td>\n",
       "      <td>28.13334360562338</td>\n",
       "      <td>6.0</td>\n",
       "      <td>100.0</td>\n",
       "    </tr>\n",
       "    <tr>\n",
       "      <th>dis</th>\n",
       "      <td>333</td>\n",
       "      <td>3.7099336336336335</td>\n",
       "      <td>1.9811230514407001</td>\n",
       "      <td>1.1296</td>\n",
       "      <td>10.7103</td>\n",
       "    </tr>\n",
       "    <tr>\n",
       "      <th>rad</th>\n",
       "      <td>333</td>\n",
       "      <td>9.633633633633634</td>\n",
       "      <td>8.742174349631064</td>\n",
       "      <td>1</td>\n",
       "      <td>24</td>\n",
       "    </tr>\n",
       "    <tr>\n",
       "      <th>tax</th>\n",
       "      <td>333</td>\n",
       "      <td>409.27927927927925</td>\n",
       "      <td>170.84198846058237</td>\n",
       "      <td>188</td>\n",
       "      <td>711</td>\n",
       "    </tr>\n",
       "    <tr>\n",
       "      <th>ptratio</th>\n",
       "      <td>333</td>\n",
       "      <td>18.448048048047994</td>\n",
       "      <td>2.1518213294390836</td>\n",
       "      <td>12.6</td>\n",
       "      <td>21.2</td>\n",
       "    </tr>\n",
       "    <tr>\n",
       "      <th>black</th>\n",
       "      <td>333</td>\n",
       "      <td>359.4660960960953</td>\n",
       "      <td>86.58456685718393</td>\n",
       "      <td>3.5</td>\n",
       "      <td>396.9</td>\n",
       "    </tr>\n",
       "    <tr>\n",
       "      <th>lstat</th>\n",
       "      <td>333</td>\n",
       "      <td>12.515435435435432</td>\n",
       "      <td>7.0677808035857845</td>\n",
       "      <td>1.73</td>\n",
       "      <td>37.97</td>\n",
       "    </tr>\n",
       "    <tr>\n",
       "      <th>medv</th>\n",
       "      <td>333</td>\n",
       "      <td>22.768768768768783</td>\n",
       "      <td>9.173468027315415</td>\n",
       "      <td>5.0</td>\n",
       "      <td>50.0</td>\n",
       "    </tr>\n",
       "  </tbody>\n",
       "</table>\n",
       "</div>"
      ],
      "text/plain": [
       "             0                    1                    2        3        4\n",
       "summary  count                 mean               stddev      min      max\n",
       "ID         333   250.95195195195194    147.8594378018597        1      506\n",
       "crim       333   3.3603414714714708    7.352271836781104  0.00632  73.5341\n",
       "zn         333    10.68918918918919   22.674761796618217      0.0    100.0\n",
       "indus      333    11.29348348348346    6.998123104477312     0.74    27.74\n",
       "chas       333  0.06006006006006006   0.2379556428164483        0        1\n",
       "nox        333    0.557144144144145  0.11495450830289312    0.385    0.871\n",
       "rm         333    6.265618618618616   0.7039515757334471    3.561    8.725\n",
       "age        333    68.22642642642641    28.13334360562338      6.0    100.0\n",
       "dis        333   3.7099336336336335   1.9811230514407001   1.1296  10.7103\n",
       "rad        333    9.633633633633634    8.742174349631064        1       24\n",
       "tax        333   409.27927927927925   170.84198846058237      188      711\n",
       "ptratio    333   18.448048048047994   2.1518213294390836     12.6     21.2\n",
       "black      333    359.4660960960953    86.58456685718393      3.5    396.9\n",
       "lstat      333   12.515435435435432   7.0677808035857845     1.73    37.97\n",
       "medv       333   22.768768768768783    9.173468027315415      5.0     50.0"
      ]
     },
     "execution_count": 5,
     "metadata": {},
     "output_type": "execute_result"
    }
   ],
   "source": [
    "house_df.describe().toPandas().transpose()"
   ]
  },
  {
   "cell_type": "code",
   "execution_count": 6,
   "metadata": {},
   "outputs": [
    {
     "name": "stdout",
     "output_type": "stream",
     "text": [
      "+--------------------+----+\n",
      "|            features|medv|\n",
      "+--------------------+----+\n",
      "|[0.00632,18.0,2.3...|24.0|\n",
      "|[0.02731,0.0,7.07...|21.6|\n",
      "|[0.03237,0.0,2.18...|33.4|\n",
      "|[0.06905,0.0,2.18...|36.2|\n",
      "|[0.08829,12.5,7.8...|22.9|\n",
      "+--------------------+----+\n",
      "only showing top 5 rows\n",
      "\n"
     ]
    }
   ],
   "source": [
    "vectors = VectorAssembler(inputCols = ['crim', 'zn','indus','chas',\n",
    "                                       'nox','rm','age','dis', 'rad', 'tax',\n",
    "                                      'ptratio','black', 'lstat'],\n",
    "                         outputCol = 'features')\n",
    "\n",
    "vhouse_df = vectors.transform(house_df)\n",
    "vhouse_df = vhouse_df.select(['features', 'medv'])\n",
    "vhouse_df.show(5)"
   ]
  },
  {
   "cell_type": "code",
   "execution_count": 7,
   "metadata": {},
   "outputs": [],
   "source": [
    "train_df, test_df = vhouse_df.randomSplit([0.7,0.3])"
   ]
  },
  {
   "cell_type": "code",
   "execution_count": 8,
   "metadata": {},
   "outputs": [],
   "source": [
    "regressor = LR(featuresCol = 'features', labelCol='medv',\\\n",
    "               maxIter=20, regParam=0.3, elasticNetParam=0.8)\n",
    "\n",
    "model = regressor.fit(train_df)"
   ]
  },
  {
   "cell_type": "code",
   "execution_count": 9,
   "metadata": {},
   "outputs": [
    {
     "name": "stdout",
     "output_type": "stream",
     "text": [
      "Coefficients: [-0.010279413081980417,0.034113414577108085,0.0,5.6415385374198,-7.783264348644399,3.085680504353533,0.0,-0.8290283633263736,0.016467345168122184,0.0,-0.5849152858717687,0.009195354138663316,-0.5627105522578837]\n",
      "Intercept: 24.28872820161242\n"
     ]
    }
   ],
   "source": [
    "print(\"Coefficients:\", model.coefficients)\n",
    "print(\"Intercept:\", model.intercept)"
   ]
  },
  {
   "cell_type": "code",
   "execution_count": 10,
   "metadata": {},
   "outputs": [
    {
     "name": "stdout",
     "output_type": "stream",
     "text": [
      "RMSE is 4.735492439102997 and r2 is 0.7060968639352195\n",
      "Number of Iterations is  21\n"
     ]
    }
   ],
   "source": [
    "modelSummary = model.summary\n",
    "print(\"RMSE is {} and r2 is {}\".format(modelSummary.rootMeanSquaredError, modelSummary.r2))\n",
    "print(\"Number of Iterations is \",modelSummary.totalIterations)"
   ]
  },
  {
   "cell_type": "code",
   "execution_count": 11,
   "metadata": {},
   "outputs": [
    {
     "name": "stdout",
     "output_type": "stream",
     "text": [
      "+--------------------+----+------------------+\n",
      "|            features|medv|        prediction|\n",
      "+--------------------+----+------------------+\n",
      "|[0.00906,90.0,2.9...|32.2| 30.33845691985376|\n",
      "|[0.01311,90.0,1.2...|35.4| 29.92694704599407|\n",
      "|[0.01501,80.0,2.0...|24.5| 27.53450962471756|\n",
      "|[0.01951,17.5,1.3...|33.0|24.177663554797803|\n",
      "|[0.01965,80.0,1.7...|20.1|20.945922220637236|\n",
      "+--------------------+----+------------------+\n",
      "only showing top 5 rows\n",
      "\n"
     ]
    }
   ],
   "source": [
    "model_predictions = model.transform(test_df)\n",
    "model_predictions.select(\"features\", \"medv\", \"prediction\").show(5)"
   ]
  },
  {
   "cell_type": "code",
   "execution_count": 13,
   "metadata": {},
   "outputs": [
    {
     "name": "stdout",
     "output_type": "stream",
     "text": [
      "R2 value on test dataset is:  0.6849428292603987\n",
      "RMSE value is 5.557545888924286\n"
     ]
    }
   ],
   "source": [
    "model_evaluator = RegressionEvaluator(predictionCol=\"prediction\",\n",
    "                  labelCol=\"medv\", metricName=\"r2\")\n",
    "print(\"R2 value on test dataset is: \", model_evaluator.evaluate(model_predictions))\n",
    "print(\"RMSE value is\", model.evaluate(test_df).rootMeanSquaredError)"
   ]
  },
  {
   "cell_type": "code",
   "execution_count": 14,
   "metadata": {},
   "outputs": [],
   "source": [
    "spark.stop()"
   ]
  },
  {
   "cell_type": "code",
   "execution_count": null,
   "metadata": {},
   "outputs": [],
   "source": []
  }
 ],
 "metadata": {
  "kernelspec": {
   "display_name": "Python [default]",
   "language": "python",
   "name": "python3"
  },
  "language_info": {
   "codemirror_mode": {
    "name": "ipython",
    "version": 3
   },
   "file_extension": ".py",
   "mimetype": "text/x-python",
   "name": "python",
   "nbconvert_exporter": "python",
   "pygments_lexer": "ipython3",
   "version": "3.5.6"
  }
 },
 "nbformat": 4,
 "nbformat_minor": 2
}
