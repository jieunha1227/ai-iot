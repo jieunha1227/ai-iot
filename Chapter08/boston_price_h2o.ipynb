{
 "cells": [
  {
   "cell_type": "code",
   "execution_count": 1,
   "metadata": {},
   "outputs": [],
   "source": [
    "import h2o\n",
    "import time\n",
    "import seaborn\n",
    "import itertools\n",
    "import numpy as np\n",
    "import pandas as pd\n",
    "import seaborn as sns\n",
    "import matplotlib.pyplot as plt\n",
    "from h2o.estimators.glm import H2OGeneralizedLinearEstimator as GLM\n",
    "from h2o.estimators.gbm import H2OGradientBoostingEstimator as GBM\n",
    "from h2o.estimators.random_forest import H2ORandomForestEstimator as RF\n",
    "\n",
    "%matplotlib inline"
   ]
  },
  {
   "cell_type": "code",
   "execution_count": 2,
   "metadata": {},
   "outputs": [
    {
     "name": "stdout",
     "output_type": "stream",
     "text": [
      "Checking whether there is an H2O instance running at http://localhost:54321..... not found.\n",
      "Attempting to start a local H2O server...\n",
      "  Java Version: java version \"1.8.0_191\"; Java(TM) SE Runtime Environment (build 1.8.0_191-b12); Java HotSpot(TM) 64-Bit Server VM (build 25.191-b12, mixed mode)\n",
      "  Starting server from /home/am/anaconda3/envs/h2o/lib/python3.5/site-packages/h2o/backend/bin/h2o.jar\n",
      "  Ice root: /tmp/tmp7hjshd9o\n",
      "  JVM stdout: /tmp/tmp7hjshd9o/h2o_am_started_from_python.out\n",
      "  JVM stderr: /tmp/tmp7hjshd9o/h2o_am_started_from_python.err\n",
      "  Server is running at http://127.0.0.1:54321\n",
      "Connecting to H2O server at http://127.0.0.1:54321... successful.\n"
     ]
    },
    {
     "data": {
      "text/html": [
       "<div style=\"overflow:auto\"><table style=\"width:50%\"><tr><td>H2O cluster uptime:</td>\n",
       "<td>01 secs</td></tr>\n",
       "<tr><td>H2O cluster timezone:</td>\n",
       "<td>Asia/Kolkata</td></tr>\n",
       "<tr><td>H2O data parsing timezone:</td>\n",
       "<td>UTC</td></tr>\n",
       "<tr><td>H2O cluster version:</td>\n",
       "<td>3.22.0.2</td></tr>\n",
       "<tr><td>H2O cluster version age:</td>\n",
       "<td>18 days </td></tr>\n",
       "<tr><td>H2O cluster name:</td>\n",
       "<td>H2O_from_python_am_3z4r3u</td></tr>\n",
       "<tr><td>H2O cluster total nodes:</td>\n",
       "<td>1</td></tr>\n",
       "<tr><td>H2O cluster free memory:</td>\n",
       "<td>6.957 Gb</td></tr>\n",
       "<tr><td>H2O cluster total cores:</td>\n",
       "<td>8</td></tr>\n",
       "<tr><td>H2O cluster allowed cores:</td>\n",
       "<td>8</td></tr>\n",
       "<tr><td>H2O cluster status:</td>\n",
       "<td>accepting new members, healthy</td></tr>\n",
       "<tr><td>H2O connection url:</td>\n",
       "<td>http://127.0.0.1:54321</td></tr>\n",
       "<tr><td>H2O connection proxy:</td>\n",
       "<td>None</td></tr>\n",
       "<tr><td>H2O internal security:</td>\n",
       "<td>False</td></tr>\n",
       "<tr><td>H2O API Extensions:</td>\n",
       "<td>XGBoost, Algos, AutoML, Core V3, Core V4</td></tr>\n",
       "<tr><td>Python version:</td>\n",
       "<td>3.5.6 final</td></tr></table></div>"
      ],
      "text/plain": [
       "--------------------------  ----------------------------------------\n",
       "H2O cluster uptime:         01 secs\n",
       "H2O cluster timezone:       Asia/Kolkata\n",
       "H2O data parsing timezone:  UTC\n",
       "H2O cluster version:        3.22.0.2\n",
       "H2O cluster version age:    18 days\n",
       "H2O cluster name:           H2O_from_python_am_3z4r3u\n",
       "H2O cluster total nodes:    1\n",
       "H2O cluster free memory:    6.957 Gb\n",
       "H2O cluster total cores:    8\n",
       "H2O cluster allowed cores:  8\n",
       "H2O cluster status:         accepting new members, healthy\n",
       "H2O connection url:         http://127.0.0.1:54321\n",
       "H2O connection proxy:\n",
       "H2O internal security:      False\n",
       "H2O API Extensions:         XGBoost, Algos, AutoML, Core V3, Core V4\n",
       "Python version:             3.5.6 final\n",
       "--------------------------  ----------------------------------------"
      ]
     },
     "metadata": {},
     "output_type": "display_data"
    }
   ],
   "source": [
    "h2o.init()"
   ]
  },
  {
   "cell_type": "code",
   "execution_count": 3,
   "metadata": {},
   "outputs": [
    {
     "name": "stdout",
     "output_type": "stream",
     "text": [
      "Parse progress: |█████████████████████████████████████████████████████████| 100%\n"
     ]
    }
   ],
   "source": [
    "boston_df = h2o.import_file(\"../Chapter08/boston/train.csv\", destination_frame=\"boston_df\")"
   ]
  },
  {
   "cell_type": "code",
   "execution_count": 4,
   "metadata": {},
   "outputs": [
    {
     "name": "stdout",
     "output_type": "stream",
     "text": [
      "Rows:333\n",
      "Cols:15\n",
      "\n",
      "\n"
     ]
    },
    {
     "data": {
      "text/html": [
       "<table>\n",
       "<thead>\n",
       "<tr><th>       </th><th>ID                </th><th>crim             </th><th>zn                </th><th>indus             </th><th>chas               </th><th>nox                </th><th>rm                </th><th>age              </th><th>dis               </th><th>rad              </th><th>tax               </th><th>ptratio           </th><th>black            </th><th>lstat             </th><th>medv             </th></tr>\n",
       "</thead>\n",
       "<tbody>\n",
       "<tr><td>type   </td><td>int               </td><td>real             </td><td>real              </td><td>real              </td><td>int                </td><td>real               </td><td>real              </td><td>real             </td><td>real              </td><td>int              </td><td>int               </td><td>real              </td><td>real             </td><td>real              </td><td>real             </td></tr>\n",
       "<tr><td>mins   </td><td>1.0               </td><td>0.00632          </td><td>0.0               </td><td>0.74              </td><td>0.0                </td><td>0.385              </td><td>3.561             </td><td>6.0              </td><td>1.1296            </td><td>1.0              </td><td>188.0             </td><td>12.6              </td><td>3.5              </td><td>1.73              </td><td>5.0              </td></tr>\n",
       "<tr><td>mean   </td><td>250.95195195195197</td><td>3.360341471471469</td><td>10.689189189189195</td><td>11.293483483483486</td><td>0.06006006006006006</td><td>0.5571441441441435 </td><td>6.26561861861862  </td><td>68.22642642642644</td><td>3.7099336336336366</td><td>9.633633633633636</td><td>409.2792792792793 </td><td>18.44804804804806 </td><td>359.4660960960961</td><td>12.515435435435434</td><td>22.76876876876877</td></tr>\n",
       "<tr><td>maxs   </td><td>506.0             </td><td>73.5341          </td><td>100.0             </td><td>27.74             </td><td>1.0                </td><td>0.871              </td><td>8.725             </td><td>100.0            </td><td>10.7103           </td><td>24.0             </td><td>711.0             </td><td>21.2              </td><td>396.9            </td><td>37.97             </td><td>50.0             </td></tr>\n",
       "<tr><td>sigma  </td><td>147.8594378018597 </td><td>7.352271836781104</td><td>22.674761796618217</td><td>6.998123104477312 </td><td>0.23795564281644838</td><td>0.11495450830289311</td><td>0.7039515757334472</td><td>28.13334360562338</td><td>1.9811230514407001</td><td>8.742174349631064</td><td>170.84198846058237</td><td>2.1518213294390836</td><td>86.58456685718393</td><td>7.0677808035857845</td><td>9.173468027315417</td></tr>\n",
       "<tr><td>zeros  </td><td>0                 </td><td>0                </td><td>248               </td><td>0                 </td><td>313                </td><td>0                  </td><td>0                 </td><td>0                </td><td>0                 </td><td>0                </td><td>0                 </td><td>0                 </td><td>0                </td><td>0                 </td><td>0                </td></tr>\n",
       "<tr><td>missing</td><td>0                 </td><td>0                </td><td>0                 </td><td>0                 </td><td>0                  </td><td>0                  </td><td>0                 </td><td>0                </td><td>0                 </td><td>0                </td><td>0                 </td><td>0                 </td><td>0                </td><td>0                 </td><td>0                </td></tr>\n",
       "<tr><td>0      </td><td>1.0               </td><td>0.00632          </td><td>18.0              </td><td>2.31              </td><td>0.0                </td><td>0.538              </td><td>6.575             </td><td>65.2             </td><td>4.09              </td><td>1.0              </td><td>296.0             </td><td>15.3              </td><td>396.9            </td><td>4.98              </td><td>24.0             </td></tr>\n",
       "<tr><td>1      </td><td>2.0               </td><td>0.02731          </td><td>0.0               </td><td>7.07              </td><td>0.0                </td><td>0.469              </td><td>6.421             </td><td>78.9             </td><td>4.9671            </td><td>2.0              </td><td>242.0             </td><td>17.8              </td><td>396.9            </td><td>9.14              </td><td>21.6             </td></tr>\n",
       "<tr><td>2      </td><td>4.0               </td><td>0.03237          </td><td>0.0               </td><td>2.18              </td><td>0.0                </td><td>0.458              </td><td>6.998             </td><td>45.8             </td><td>6.0622            </td><td>3.0              </td><td>222.0             </td><td>18.7              </td><td>394.63           </td><td>2.94              </td><td>33.4             </td></tr>\n",
       "<tr><td>3      </td><td>5.0               </td><td>0.06905          </td><td>0.0               </td><td>2.18              </td><td>0.0                </td><td>0.458              </td><td>7.147             </td><td>54.2             </td><td>6.0622            </td><td>3.0              </td><td>222.0             </td><td>18.7              </td><td>396.9            </td><td>5.33              </td><td>36.2             </td></tr>\n",
       "<tr><td>4      </td><td>7.0               </td><td>0.08829          </td><td>12.5              </td><td>7.87              </td><td>0.0                </td><td>0.524              </td><td>6.012             </td><td>66.6             </td><td>5.5605            </td><td>5.0              </td><td>311.0             </td><td>15.2              </td><td>395.6            </td><td>12.43             </td><td>22.9             </td></tr>\n",
       "<tr><td>5      </td><td>11.0              </td><td>0.22489          </td><td>12.5              </td><td>7.87              </td><td>0.0                </td><td>0.524              </td><td>6.377             </td><td>94.3             </td><td>6.3467            </td><td>5.0              </td><td>311.0             </td><td>15.2              </td><td>392.52           </td><td>20.45             </td><td>15.0             </td></tr>\n",
       "<tr><td>6      </td><td>12.0              </td><td>0.11747          </td><td>12.5              </td><td>7.87              </td><td>0.0                </td><td>0.524              </td><td>6.009             </td><td>82.9             </td><td>6.2267            </td><td>5.0              </td><td>311.0             </td><td>15.2              </td><td>396.9            </td><td>13.27             </td><td>18.9             </td></tr>\n",
       "<tr><td>7      </td><td>13.0              </td><td>0.09378          </td><td>12.5              </td><td>7.87              </td><td>0.0                </td><td>0.524              </td><td>5.889             </td><td>39.0             </td><td>5.4509            </td><td>5.0              </td><td>311.0             </td><td>15.2              </td><td>390.5            </td><td>15.71             </td><td>21.7             </td></tr>\n",
       "<tr><td>8      </td><td>14.0              </td><td>0.62976          </td><td>0.0               </td><td>8.14              </td><td>0.0                </td><td>0.538              </td><td>5.949             </td><td>61.8             </td><td>4.7075            </td><td>4.0              </td><td>307.0             </td><td>21.0              </td><td>396.9            </td><td>8.26              </td><td>20.4             </td></tr>\n",
       "<tr><td>9      </td><td>15.0              </td><td>0.63796          </td><td>0.0               </td><td>8.14              </td><td>0.0                </td><td>0.538              </td><td>6.096             </td><td>84.5             </td><td>4.4619            </td><td>4.0              </td><td>307.0             </td><td>21.0              </td><td>380.02           </td><td>10.26             </td><td>18.2             </td></tr>\n",
       "</tbody>\n",
       "</table>"
      ]
     },
     "metadata": {},
     "output_type": "display_data"
    }
   ],
   "source": [
    "boston_df.describe()"
   ]
  },
  {
   "cell_type": "code",
   "execution_count": 5,
   "metadata": {},
   "outputs": [
    {
     "data": {
      "text/plain": [
       "Text(0.5, 1.0, 'Correlation Heatmap')"
      ]
     },
     "execution_count": 5,
     "metadata": {},
     "output_type": "execute_result"
    },
    {
     "data": {
      "image/png": "[encoded data removed]",
      "text/plain": [
       "<Figure size 1440x1440 with 2 Axes>"
      ]
     },
     "metadata": {
      "needs_background": "light"
     },
     "output_type": "display_data"
    }
   ],
   "source": [
    "plt.figure(figsize=(20,20))\n",
    "corr = boston_df.cor()\n",
    "corr = corr.as_data_frame()\n",
    "corr.index = boston_df.columns\n",
    "#print(corr)\n",
    "sns.heatmap(corr, annot=True, cmap='YlGnBu',vmin=-1, vmax=1)\n",
    "plt.title(\"Correlation Heatmap\")"
   ]
  },
  {
   "cell_type": "code",
   "execution_count": 6,
   "metadata": {},
   "outputs": [],
   "source": [
    "train_df, valid_df, test_df = boston_df.split_frame(ratios=[0.6, 0.2], seed=133)\n"
   ]
  },
  {
   "cell_type": "code",
   "execution_count": 7,
   "metadata": {},
   "outputs": [
    {
     "name": "stdout",
     "output_type": "stream",
     "text": [
      "['ID', 'crim', 'zn', 'indus', 'chas', 'nox', 'rm', 'age', 'dis', 'rad', 'tax', 'ptratio', 'black', 'lstat']\n"
     ]
    }
   ],
   "source": [
    "features =  boston_df.columns[:-1]\n",
    "print(features)\n"
   ]
  },
  {
   "cell_type": "code",
   "execution_count": 8,
   "metadata": {},
   "outputs": [
    {
     "name": "stdout",
     "output_type": "stream",
     "text": [
      "glm Model Build progress: |███████████████████████████████████████████████| 100%\n",
      "Model Details\n",
      "=============\n",
      "H2OGeneralizedLinearEstimator :  Generalized Linear Modeling\n",
      "Model Key:  boston_glm\n",
      "\n",
      "\n",
      "ModelMetricsRegressionGLM: glm\n",
      "** Reported on train data. **\n",
      "\n",
      "MSE: 25.29061565365854\n",
      "RMSE: 5.028977595263131\n",
      "MAE: 3.5119806236622573\n",
      "RMSLE: 0.21879597717063684\n",
      "R^2: 0.6585836959508422\n",
      "Mean Residual Deviance: 25.29061565365854\n",
      "Null degrees of freedom: 199\n",
      "Residual degrees of freedom: 188\n",
      "Null deviance: 14815.118876113953\n",
      "Residual deviance: 5058.123130731708\n",
      "AIC: 1239.662094110731\n",
      "\n",
      "ModelMetricsRegressionGLM: glm\n",
      "** Reported on validation data. **\n",
      "\n",
      "MSE: 29.45943429400654\n",
      "RMSE: 5.427654584994014\n",
      "MAE: 3.9827620428290818\n",
      "RMSLE: 0.23155132773489584\n",
      "R^2: 0.6075220878659529\n",
      "Mean Residual Deviance: 29.45943429400654\n",
      "Null degrees of freedom: 57\n",
      "Residual degrees of freedom: 46\n",
      "Null deviance: 4379.649896571945\n",
      "Residual deviance: 1708.6471890523794\n",
      "AIC: 386.81169393537243\n",
      "Scoring History: \n"
     ]
    },
    {
     "data": {
      "text/html": [
       "<div style=\"overflow:auto\"><table style=\"width:50%\"><tr><td><b></b></td>\n",
       "<td><b>timestamp</b></td>\n",
       "<td><b>duration</b></td>\n",
       "<td><b>iterations</b></td>\n",
       "<td><b>negative_log_likelihood</b></td>\n",
       "<td><b>objective</b></td></tr>\n",
       "<tr><td></td>\n",
       "<td>2018-12-10 22:21:59</td>\n",
       "<td> 0.000 sec</td>\n",
       "<td>0</td>\n",
       "<td>14815.1187500</td>\n",
       "<td>74.0755937</td></tr></table></div>"
      ],
      "text/plain": [
       "    timestamp            duration    iterations    negative_log_likelihood    objective\n",
       "--  -------------------  ----------  ------------  -------------------------  -----------\n",
       "    2018-12-10 22:21:59  0.000 sec   0             14815.1                    74.0756"
      ]
     },
     "metadata": {},
     "output_type": "display_data"
    },
    {
     "name": "stdout",
     "output_type": "stream",
     "text": [
      "\n"
     ]
    }
   ],
   "source": [
    "model_glm = GLM(model_id='boston_glm')\n",
    "model_glm.train(training_frame= train_df, validation_frame=valid_df, y = 'medv', x=features)\n",
    "print(model_glm)"
   ]
  },
  {
   "cell_type": "code",
   "execution_count": 9,
   "metadata": {},
   "outputs": [
    {
     "name": "stdout",
     "output_type": "stream",
     "text": [
      "\n",
      "ModelMetricsRegressionGLM: glm\n",
      "** Reported on test data. **\n",
      "\n",
      "MSE: 58.79022368779993\n",
      "RMSE: 7.667478313487423\n",
      "MAE: 4.535525812229012\n",
      "RMSLE: 0.2716211906586539\n",
      "R^2: 0.4911310682143256\n",
      "Mean Residual Deviance: 58.79022368779993\n",
      "Null degrees of freedom: 74\n",
      "Residual degrees of freedom: 63\n",
      "Null deviance: 8748.76368890764\n",
      "Residual deviance: 4409.266776584995\n",
      "AIC: 544.388948275823\n",
      "\n"
     ]
    }
   ],
   "source": [
    "test_glm = model_glm.model_performance(test_df)\n",
    "print(test_glm)"
   ]
  },
  {
   "cell_type": "code",
   "execution_count": 10,
   "metadata": {},
   "outputs": [
    {
     "name": "stdout",
     "output_type": "stream",
     "text": [
      "gbm Model Build progress: |███████████████████████████████████████████████| 100%\n",
      "Model Details\n",
      "=============\n",
      "H2OGradientBoostingEstimator :  Gradient Boosting Machine\n",
      "Model Key:  boston_glm\n",
      "\n",
      "\n",
      "ModelMetricsRegression: gbm\n",
      "** Reported on train data. **\n",
      "\n",
      "MSE: 2.042942663976728\n",
      "RMSE: 1.4293154529272842\n",
      "MAE: 0.956157636642456\n",
      "RMSLE: 0.07545015650988193\n",
      "Mean Residual Deviance: 2.042942663976728\n",
      "\n",
      "ModelMetricsRegression: gbm\n",
      "** Reported on validation data. **\n",
      "\n",
      "MSE: 9.952095863557963\n",
      "RMSE: 3.1546942583328046\n",
      "MAE: 2.4723717368870632\n",
      "RMSLE: 0.14778009630478506\n",
      "Mean Residual Deviance: 9.952095863557963\n",
      "Scoring History: \n"
     ]
    },
    {
     "data": {
      "text/html": [
       "<div style=\"overflow:auto\"><table style=\"width:50%\"><tr><td><b></b></td>\n",
       "<td><b>timestamp</b></td>\n",
       "<td><b>duration</b></td>\n",
       "<td><b>number_of_trees</b></td>\n",
       "<td><b>training_rmse</b></td>\n",
       "<td><b>training_mae</b></td>\n",
       "<td><b>training_deviance</b></td>\n",
       "<td><b>validation_rmse</b></td>\n",
       "<td><b>validation_mae</b></td>\n",
       "<td><b>validation_deviance</b></td></tr>\n",
       "<tr><td></td>\n",
       "<td>2018-12-10 22:21:59</td>\n",
       "<td> 0.007 sec</td>\n",
       "<td>0.0</td>\n",
       "<td>8.6067180</td>\n",
       "<td>6.2086750</td>\n",
       "<td>74.0755944</td>\n",
       "<td>8.6897184</td>\n",
       "<td>6.4062069</td>\n",
       "<td>75.5112051</td></tr>\n",
       "<tr><td></td>\n",
       "<td>2018-12-10 22:22:00</td>\n",
       "<td> 0.082 sec</td>\n",
       "<td>1.0</td>\n",
       "<td>7.8745256</td>\n",
       "<td>5.6955418</td>\n",
       "<td>62.0081539</td>\n",
       "<td>7.9158332</td>\n",
       "<td>5.8378586</td>\n",
       "<td>62.6604157</td></tr>\n",
       "<tr><td></td>\n",
       "<td>2018-12-10 22:22:00</td>\n",
       "<td> 0.099 sec</td>\n",
       "<td>2.0</td>\n",
       "<td>7.2269157</td>\n",
       "<td>5.2468596</td>\n",
       "<td>52.2283100</td>\n",
       "<td>7.3528982</td>\n",
       "<td>5.3666290</td>\n",
       "<td>54.0651123</td></tr>\n",
       "<tr><td></td>\n",
       "<td>2018-12-10 22:22:00</td>\n",
       "<td> 0.110 sec</td>\n",
       "<td>3.0</td>\n",
       "<td>6.6511410</td>\n",
       "<td>4.8407240</td>\n",
       "<td>44.2376772</td>\n",
       "<td>6.7305981</td>\n",
       "<td>4.9209957</td>\n",
       "<td>45.3009512</td></tr>\n",
       "<tr><td></td>\n",
       "<td>2018-12-10 22:22:00</td>\n",
       "<td> 0.119 sec</td>\n",
       "<td>4.0</td>\n",
       "<td>6.1352543</td>\n",
       "<td>4.4610242</td>\n",
       "<td>37.6413451</td>\n",
       "<td>6.2253171</td>\n",
       "<td>4.5300788</td>\n",
       "<td>38.7545733</td></tr>\n",
       "<tr><td>---</td>\n",
       "<td>---</td>\n",
       "<td>---</td>\n",
       "<td>---</td>\n",
       "<td>---</td>\n",
       "<td>---</td>\n",
       "<td>---</td>\n",
       "<td>---</td>\n",
       "<td>---</td>\n",
       "<td>---</td></tr>\n",
       "<tr><td></td>\n",
       "<td>2018-12-10 22:22:00</td>\n",
       "<td> 0.367 sec</td>\n",
       "<td>46.0</td>\n",
       "<td>1.4819746</td>\n",
       "<td>0.9849367</td>\n",
       "<td>2.1962487</td>\n",
       "<td>3.1864196</td>\n",
       "<td>2.5048409</td>\n",
       "<td>10.1532696</td></tr>\n",
       "<tr><td></td>\n",
       "<td>2018-12-10 22:22:00</td>\n",
       "<td> 0.372 sec</td>\n",
       "<td>47.0</td>\n",
       "<td>1.4650429</td>\n",
       "<td>0.9735427</td>\n",
       "<td>2.1463508</td>\n",
       "<td>3.1658451</td>\n",
       "<td>2.4840720</td>\n",
       "<td>10.0225753</td></tr>\n",
       "<tr><td></td>\n",
       "<td>2018-12-10 22:22:00</td>\n",
       "<td> 0.378 sec</td>\n",
       "<td>48.0</td>\n",
       "<td>1.4519266</td>\n",
       "<td>0.9678361</td>\n",
       "<td>2.1080908</td>\n",
       "<td>3.1687301</td>\n",
       "<td>2.4885291</td>\n",
       "<td>10.0408505</td></tr>\n",
       "<tr><td></td>\n",
       "<td>2018-12-10 22:22:00</td>\n",
       "<td> 0.383 sec</td>\n",
       "<td>49.0</td>\n",
       "<td>1.4405848</td>\n",
       "<td>0.9627064</td>\n",
       "<td>2.0752845</td>\n",
       "<td>3.1696857</td>\n",
       "<td>2.4854322</td>\n",
       "<td>10.0469074</td></tr>\n",
       "<tr><td></td>\n",
       "<td>2018-12-10 22:22:00</td>\n",
       "<td> 0.389 sec</td>\n",
       "<td>50.0</td>\n",
       "<td>1.4293155</td>\n",
       "<td>0.9561576</td>\n",
       "<td>2.0429427</td>\n",
       "<td>3.1546943</td>\n",
       "<td>2.4723717</td>\n",
       "<td>9.9520959</td></tr></table></div>"
      ],
      "text/plain": [
       "     timestamp            duration    number_of_trees    training_rmse       training_mae        training_deviance    validation_rmse     validation_mae      validation_deviance\n",
       "---  -------------------  ----------  -----------------  ------------------  ------------------  -------------------  ------------------  ------------------  ---------------------\n",
       "     2018-12-10 22:21:59  0.007 sec   0.0                8.606717979611611   6.208675045776367   74.07559438056977    8.68971835638586    6.406206926148523   75.51120511330939\n",
       "     2018-12-10 22:22:00  0.082 sec   1.0                7.874525631082505   5.695541753768921   62.008153914575324   7.915833228281387   5.837858645576864   62.66041569796373\n",
       "     2018-12-10 22:22:00  0.099 sec   2.0                7.2269156601718185  5.246859560012817   52.22830995923667    7.352898226995891   5.366629046078393   54.065112336559324\n",
       "     2018-12-10 22:22:00  0.110 sec   3.0                6.651141048147663   4.840724048614502   44.237677242354785   6.730598133141566   4.920995748741879   45.30095122984873\n",
       "     2018-12-10 22:22:00  0.119 sec   4.0                6.135254277808832   4.461024179458618   37.641345053371566   6.225317121276851   4.530078803167265   38.754573260462706\n",
       "---  ---                  ---         ---                ---                 ---                 ---                  ---                 ---                 ---\n",
       "     2018-12-10 22:22:00  0.367 sec   46.0               1.4819745996519473  0.9849367189407349  2.19624871401355     3.1864195638216692  2.504840910437171   10.153269636705478\n",
       "     2018-12-10 22:22:00  0.372 sec   47.0               1.465042926220891   0.9735426521301269  2.146350775669871    3.165845117903913   2.484071976604012   10.02257531055604\n",
       "     2018-12-10 22:22:00  0.378 sec   48.0               1.4519265690069845  0.9678360986709594  2.108090761788394    3.1687301007707314  2.488529072249958   10.040850451530488\n",
       "     2018-12-10 22:22:00  0.383 sec   49.0               1.44058476848856    0.9627064180374145  2.075284475201238    3.1696856974092413  2.485432197876908   10.046907420360709\n",
       "     2018-12-10 22:22:00  0.389 sec   50.0               1.4293154529272842  0.956157636642456   2.042942663976728    3.1546942583328046  2.4723717368870632  9.952095863557963"
      ]
     },
     "metadata": {},
     "output_type": "display_data"
    },
    {
     "name": "stdout",
     "output_type": "stream",
     "text": [
      "\n",
      "See the whole table with table.as_data_frame()\n",
      "Variable Importances: \n"
     ]
    },
    {
     "data": {
      "text/html": [
       "<div style=\"overflow:auto\"><table style=\"width:50%\"><tr><td><b>variable</b></td>\n",
       "<td><b>relative_importance</b></td>\n",
       "<td><b>scaled_importance</b></td>\n",
       "<td><b>percentage</b></td></tr>\n",
       "<tr><td>rm</td>\n",
       "<td>35352.7656250</td>\n",
       "<td>1.0</td>\n",
       "<td>0.4662487</td></tr>\n",
       "<tr><td>lstat</td>\n",
       "<td>30494.9238281</td>\n",
       "<td>0.8625895</td>\n",
       "<td>0.4021812</td></tr>\n",
       "<tr><td>crim</td>\n",
       "<td>2075.9633789</td>\n",
       "<td>0.0587214</td>\n",
       "<td>0.0273788</td></tr>\n",
       "<tr><td>dis</td>\n",
       "<td>1768.7695312</td>\n",
       "<td>0.0500320</td>\n",
       "<td>0.0233274</td></tr>\n",
       "<tr><td>ID</td>\n",
       "<td>1526.9898682</td>\n",
       "<td>0.0431929</td>\n",
       "<td>0.0201386</td></tr>\n",
       "<tr><td>age</td>\n",
       "<td>1282.9465332</td>\n",
       "<td>0.0362898</td>\n",
       "<td>0.0169201</td></tr>\n",
       "<tr><td>ptratio</td>\n",
       "<td>1082.0786133</td>\n",
       "<td>0.0306080</td>\n",
       "<td>0.0142710</td></tr>\n",
       "<tr><td>tax</td>\n",
       "<td>746.5069580</td>\n",
       "<td>0.0211159</td>\n",
       "<td>0.0098453</td></tr>\n",
       "<tr><td>nox</td>\n",
       "<td>697.5780029</td>\n",
       "<td>0.0197319</td>\n",
       "<td>0.0092000</td></tr>\n",
       "<tr><td>chas</td>\n",
       "<td>280.3769226</td>\n",
       "<td>0.0079308</td>\n",
       "<td>0.0036977</td></tr>\n",
       "<tr><td>rad</td>\n",
       "<td>250.9245605</td>\n",
       "<td>0.0070977</td>\n",
       "<td>0.0033093</td></tr>\n",
       "<tr><td>black</td>\n",
       "<td>182.0712433</td>\n",
       "<td>0.0051501</td>\n",
       "<td>0.0024012</td></tr>\n",
       "<tr><td>indus</td>\n",
       "<td>52.5289192</td>\n",
       "<td>0.0014859</td>\n",
       "<td>0.0006928</td></tr>\n",
       "<tr><td>zn</td>\n",
       "<td>29.4213524</td>\n",
       "<td>0.0008322</td>\n",
       "<td>0.0003880</td></tr></table></div>"
      ],
      "text/plain": [
       "variable    relative_importance    scaled_importance    percentage\n",
       "----------  ---------------------  -------------------  ------------\n",
       "rm          35352.8                1                    0.466249\n",
       "lstat       30494.9                0.862589             0.402181\n",
       "crim        2075.96                0.0587214            0.0273788\n",
       "dis         1768.77                0.050032             0.0233274\n",
       "ID          1526.99                0.0431929            0.0201386\n",
       "age         1282.95                0.0362898            0.0169201\n",
       "ptratio     1082.08                0.030608             0.014271\n",
       "tax         746.507                0.0211159            0.00984528\n",
       "nox         697.578                0.0197319            0.00919998\n",
       "chas        280.377                0.00793083           0.00369774\n",
       "rad         250.925                0.00709773           0.00330931\n",
       "black       182.071                0.00515013           0.00240124\n",
       "indus       52.5289                0.00148585           0.000692776\n",
       "zn          29.4214                0.000832222          0.000388022"
      ]
     },
     "metadata": {},
     "output_type": "display_data"
    },
    {
     "name": "stdout",
     "output_type": "stream",
     "text": [
      "\n"
     ]
    }
   ],
   "source": [
    "model_gbm = GBM(model_id='boston_gbm')\n",
    "model_gbm.train(training_frame= train_df, validation_frame=valid_df, y = 'medv', x=features)\n",
    "print(model_gbm)"
   ]
  },
  {
   "cell_type": "code",
   "execution_count": 11,
   "metadata": {},
   "outputs": [
    {
     "name": "stdout",
     "output_type": "stream",
     "text": [
      "\n",
      "ModelMetricsRegression: gbm\n",
      "** Reported on test data. **\n",
      "\n",
      "MSE: 28.403762409118233\n",
      "RMSE: 5.329518027844379\n",
      "MAE: 2.8727256028741603\n",
      "RMSLE: 0.18390281605425915\n",
      "Mean Residual Deviance: 28.403762409118233\n",
      "\n"
     ]
    }
   ],
   "source": [
    "test_gbm = model_gbm.model_performance(test_df)\n",
    "print(test_gbm)"
   ]
  },
  {
   "cell_type": "code",
   "execution_count": 12,
   "metadata": {},
   "outputs": [
    {
     "name": "stdout",
     "output_type": "stream",
     "text": [
      "drf Model Build progress: |███████████████████████████████████████████████| 100%\n",
      "Model Details\n",
      "=============\n",
      "H2ORandomForestEstimator :  Distributed Random Forest\n",
      "Model Key:  boston_glm\n",
      "\n",
      "\n",
      "ModelMetricsRegression: drf\n",
      "** Reported on train data. **\n",
      "\n",
      "MSE: 13.535222159406818\n",
      "RMSE: 3.6790246206578745\n",
      "MAE: 2.50327929070973\n",
      "RMSLE: 0.15461658290638441\n",
      "Mean Residual Deviance: 13.535222159406818\n",
      "\n",
      "ModelMetricsRegression: drf\n",
      "** Reported on validation data. **\n",
      "\n",
      "MSE: 10.280927854920087\n",
      "RMSE: 3.2063886001107362\n",
      "MAE: 2.559741400028097\n",
      "RMSLE: 0.13662446955334076\n",
      "Mean Residual Deviance: 10.280927854920087\n",
      "Scoring History: \n"
     ]
    },
    {
     "data": {
      "text/html": [
       "<div style=\"overflow:auto\"><table style=\"width:50%\"><tr><td><b></b></td>\n",
       "<td><b>timestamp</b></td>\n",
       "<td><b>duration</b></td>\n",
       "<td><b>number_of_trees</b></td>\n",
       "<td><b>training_rmse</b></td>\n",
       "<td><b>training_mae</b></td>\n",
       "<td><b>training_deviance</b></td>\n",
       "<td><b>validation_rmse</b></td>\n",
       "<td><b>validation_mae</b></td>\n",
       "<td><b>validation_deviance</b></td></tr>\n",
       "<tr><td></td>\n",
       "<td>2018-12-10 22:22:00</td>\n",
       "<td> 0.002 sec</td>\n",
       "<td>0.0</td>\n",
       "<td>nan</td>\n",
       "<td>nan</td>\n",
       "<td>nan</td>\n",
       "<td>nan</td>\n",
       "<td>nan</td>\n",
       "<td>nan</td></tr>\n",
       "<tr><td></td>\n",
       "<td>2018-12-10 22:22:00</td>\n",
       "<td> 0.030 sec</td>\n",
       "<td>1.0</td>\n",
       "<td>6.1203567</td>\n",
       "<td>3.8863012</td>\n",
       "<td>37.4587663</td>\n",
       "<td>4.8514129</td>\n",
       "<td>3.4137930</td>\n",
       "<td>23.5362067</td></tr>\n",
       "<tr><td></td>\n",
       "<td>2018-12-10 22:22:00</td>\n",
       "<td> 0.048 sec</td>\n",
       "<td>2.0</td>\n",
       "<td>6.0681136</td>\n",
       "<td>3.8797521</td>\n",
       "<td>36.8220031</td>\n",
       "<td>4.2660903</td>\n",
       "<td>3.0629310</td>\n",
       "<td>18.1995261</td></tr>\n",
       "<tr><td></td>\n",
       "<td>2018-12-10 22:22:00</td>\n",
       "<td> 0.059 sec</td>\n",
       "<td>3.0</td>\n",
       "<td>5.5984111</td>\n",
       "<td>3.6712121</td>\n",
       "<td>31.3422072</td>\n",
       "<td>3.7375426</td>\n",
       "<td>2.8063218</td>\n",
       "<td>13.9692244</td></tr>\n",
       "<tr><td></td>\n",
       "<td>2018-12-10 22:22:00</td>\n",
       "<td> 0.068 sec</td>\n",
       "<td>4.0</td>\n",
       "<td>5.7955455</td>\n",
       "<td>3.7337991</td>\n",
       "<td>33.5883478</td>\n",
       "<td>3.8810291</td>\n",
       "<td>2.7875001</td>\n",
       "<td>15.0623868</td></tr>\n",
       "<tr><td>---</td>\n",
       "<td>---</td>\n",
       "<td>---</td>\n",
       "<td>---</td>\n",
       "<td>---</td>\n",
       "<td>---</td>\n",
       "<td>---</td>\n",
       "<td>---</td>\n",
       "<td>---</td>\n",
       "<td>---</td></tr>\n",
       "<tr><td></td>\n",
       "<td>2018-12-10 22:22:00</td>\n",
       "<td> 0.328 sec</td>\n",
       "<td>46.0</td>\n",
       "<td>3.6409822</td>\n",
       "<td>2.4835955</td>\n",
       "<td>13.2567512</td>\n",
       "<td>3.2289387</td>\n",
       "<td>2.5635120</td>\n",
       "<td>10.4260448</td></tr>\n",
       "<tr><td></td>\n",
       "<td>2018-12-10 22:22:00</td>\n",
       "<td> 0.333 sec</td>\n",
       "<td>47.0</td>\n",
       "<td>3.6524235</td>\n",
       "<td>2.4942580</td>\n",
       "<td>13.3401974</td>\n",
       "<td>3.2239423</td>\n",
       "<td>2.5659024</td>\n",
       "<td>10.3938040</td></tr>\n",
       "<tr><td></td>\n",
       "<td>2018-12-10 22:22:00</td>\n",
       "<td> 0.337 sec</td>\n",
       "<td>48.0</td>\n",
       "<td>3.6471355</td>\n",
       "<td>2.4851220</td>\n",
       "<td>13.3015976</td>\n",
       "<td>3.2155629</td>\n",
       "<td>2.5646372</td>\n",
       "<td>10.3398446</td></tr>\n",
       "<tr><td></td>\n",
       "<td>2018-12-10 22:22:00</td>\n",
       "<td> 0.343 sec</td>\n",
       "<td>49.0</td>\n",
       "<td>3.6624611</td>\n",
       "<td>2.4938515</td>\n",
       "<td>13.4136211</td>\n",
       "<td>3.2121006</td>\n",
       "<td>2.5709536</td>\n",
       "<td>10.3175903</td></tr>\n",
       "<tr><td></td>\n",
       "<td>2018-12-10 22:22:00</td>\n",
       "<td> 0.349 sec</td>\n",
       "<td>50.0</td>\n",
       "<td>3.6790246</td>\n",
       "<td>2.5032793</td>\n",
       "<td>13.5352222</td>\n",
       "<td>3.2063886</td>\n",
       "<td>2.5597414</td>\n",
       "<td>10.2809279</td></tr></table></div>"
      ],
      "text/plain": [
       "     timestamp            duration    number_of_trees    training_rmse       training_mae        training_deviance    validation_rmse     validation_mae      validation_deviance\n",
       "---  -------------------  ----------  -----------------  ------------------  ------------------  -------------------  ------------------  ------------------  ---------------------\n",
       "     2018-12-10 22:22:00  0.002 sec   0.0                nan                 nan                 nan                  nan                 nan                 nan\n",
       "     2018-12-10 22:22:00  0.030 sec   1.0                6.120356713822716   3.88630123660989    37.45876630443479    4.851412860732422   3.4137930212349725  23.536206745279944\n",
       "     2018-12-10 22:22:00  0.048 sec   2.0                6.068113634468775   3.8797520645393813  36.822003080825844   4.266090262344155   3.062930970356382   18.199526126467614\n",
       "     2018-12-10 22:22:00  0.059 sec   3.0                5.598411129904372   3.6712121040948897  31.34220717943715    3.737542558755161   2.8063218237339775  13.969224378506077\n",
       "     2018-12-10 22:22:00  0.068 sec   4.0                5.795545510591357   3.733799127811724   33.58834776533564    3.88102908675291    2.7875000649485093  15.062386772222128\n",
       "---  ---                  ---         ---                ---                 ---                 ---                  ---                 ---                 ---\n",
       "     2018-12-10 22:22:00  0.328 sec   46.0               3.640982182023553   2.4835954508398244  13.256751249812991   3.2289386504761755  2.5635120150210082  10.426044808538906\n",
       "     2018-12-10 22:22:00  0.333 sec   47.0               3.652423492900152   2.494258041533931   13.340197371488948   3.22394231044322    2.5659024412808664  10.393804021065968\n",
       "     2018-12-10 22:22:00  0.337 sec   48.0               3.6471355310726308  2.485122047811369   13.30159758201244    3.215562868530333   2.564637234156159   10.339844561471022\n",
       "     2018-12-10 22:22:00  0.343 sec   49.0               3.66246107674688    2.493851457895479   13.413621138685915   3.212100604177361   2.5709535751772292  10.317590291356568\n",
       "     2018-12-10 22:22:00  0.349 sec   50.0               3.6790246206578745  2.50327929070973    13.535222159406818   3.2063886001107362  2.559741400028097   10.280927854920087"
      ]
     },
     "metadata": {},
     "output_type": "display_data"
    },
    {
     "name": "stdout",
     "output_type": "stream",
     "text": [
      "\n",
      "See the whole table with table.as_data_frame()\n",
      "Variable Importances: \n"
     ]
    },
    {
     "data": {
      "text/html": [
       "<div style=\"overflow:auto\"><table style=\"width:50%\"><tr><td><b>variable</b></td>\n",
       "<td><b>relative_importance</b></td>\n",
       "<td><b>scaled_importance</b></td>\n",
       "<td><b>percentage</b></td></tr>\n",
       "<tr><td>lstat</td>\n",
       "<td>170228.8437500</td>\n",
       "<td>1.0</td>\n",
       "<td>0.2983517</td></tr>\n",
       "<tr><td>rm</td>\n",
       "<td>146500.5781250</td>\n",
       "<td>0.8606096</td>\n",
       "<td>0.2567643</td></tr>\n",
       "<tr><td>ptratio</td>\n",
       "<td>62365.9335938</td>\n",
       "<td>0.3663653</td>\n",
       "<td>0.1093057</td></tr>\n",
       "<tr><td>ID</td>\n",
       "<td>30946.3027344</td>\n",
       "<td>0.1817924</td>\n",
       "<td>0.0542381</td></tr>\n",
       "<tr><td>indus</td>\n",
       "<td>30772.8671875</td>\n",
       "<td>0.1807735</td>\n",
       "<td>0.0539341</td></tr>\n",
       "<tr><td>crim</td>\n",
       "<td>30057.4687500</td>\n",
       "<td>0.1765710</td>\n",
       "<td>0.0526802</td></tr>\n",
       "<tr><td>dis</td>\n",
       "<td>24625.0761719</td>\n",
       "<td>0.1446587</td>\n",
       "<td>0.0431592</td></tr>\n",
       "<tr><td>nox</td>\n",
       "<td>18071.7949219</td>\n",
       "<td>0.1061618</td>\n",
       "<td>0.0316735</td></tr>\n",
       "<tr><td>tax</td>\n",
       "<td>17483.3437500</td>\n",
       "<td>0.1027049</td>\n",
       "<td>0.0306422</td></tr>\n",
       "<tr><td>age</td>\n",
       "<td>17011.5605469</td>\n",
       "<td>0.0999335</td>\n",
       "<td>0.0298153</td></tr>\n",
       "<tr><td>black</td>\n",
       "<td>8173.1889648</td>\n",
       "<td>0.0480130</td>\n",
       "<td>0.0143247</td></tr>\n",
       "<tr><td>chas</td>\n",
       "<td>5748.4072266</td>\n",
       "<td>0.0337687</td>\n",
       "<td>0.0100749</td></tr>\n",
       "<tr><td>zn</td>\n",
       "<td>4295.7495117</td>\n",
       "<td>0.0252351</td>\n",
       "<td>0.0075289</td></tr>\n",
       "<tr><td>rad</td>\n",
       "<td>4283.2963867</td>\n",
       "<td>0.0251620</td>\n",
       "<td>0.0075071</td></tr></table></div>"
      ],
      "text/plain": [
       "variable    relative_importance    scaled_importance    percentage\n",
       "----------  ---------------------  -------------------  ------------\n",
       "lstat       170229                 1                    0.298352\n",
       "rm          146501                 0.86061              0.256764\n",
       "ptratio     62365.9                0.366365             0.109306\n",
       "ID          30946.3                0.181792             0.0542381\n",
       "indus       30772.9                0.180774             0.0539341\n",
       "crim        30057.5                0.176571             0.0526802\n",
       "dis         24625.1                0.144659             0.0431592\n",
       "nox         18071.8                0.106162             0.0316735\n",
       "tax         17483.3                0.102705             0.0306422\n",
       "age         17011.6                0.0999335            0.0298153\n",
       "black       8173.19                0.048013             0.0143247\n",
       "chas        5748.41                0.0337687            0.0100749\n",
       "zn          4295.75                0.0252351            0.00752895\n",
       "rad         4283.3                 0.025162             0.00750712"
      ]
     },
     "metadata": {},
     "output_type": "display_data"
    },
    {
     "name": "stdout",
     "output_type": "stream",
     "text": [
      "\n"
     ]
    }
   ],
   "source": [
    "model_rf = RF(model_id='boston_rf')\n",
    "model_rf.train(training_frame= train_df, validation_frame=valid_df, y = 'medv', x=features)\n",
    "print(model_rf)"
   ]
  },
  {
   "cell_type": "code",
   "execution_count": 13,
   "metadata": {},
   "outputs": [
    {
     "name": "stdout",
     "output_type": "stream",
     "text": [
      "\n",
      "ModelMetricsRegression: drf\n",
      "** Reported on test data. **\n",
      "\n",
      "MSE: 26.47634734831408\n",
      "RMSE: 5.145517209019331\n",
      "MAE: 2.7435666684468587\n",
      "RMSLE: 0.16544264104460665\n",
      "Mean Residual Deviance: 26.47634734831408\n",
      "\n"
     ]
    }
   ],
   "source": [
    "test_rf = model_rf.model_performance(test_df)\n",
    "print(test_rf)"
   ]
  },
  {
   "cell_type": "code",
   "execution_count": 21,
   "metadata": {},
   "outputs": [
    {
     "name": "stdout",
     "output_type": "stream",
     "text": [
      "gbm Grid Build progress: |████████████████████████████████████████████████| 100%\n"
     ]
    }
   ],
   "source": [
    "from h2o.grid.grid_search import H2OGridSearch as Grid\n",
    "\n",
    "hyper_params = {'max_depth':[2,4,6,8,10,12,14,16]}\n",
    "\n",
    "grid = Grid(model_gbm, hyper_params, grid_id='depth_grid')\n",
    "\n",
    "grid.train(training_frame= train_df, validation_frame=valid_df, y = 'medv', x=features)"
   ]
  },
  {
   "cell_type": "code",
   "execution_count": 22,
   "metadata": {},
   "outputs": [
    {
     "name": "stdout",
     "output_type": "stream",
     "text": [
      "    max_depth           model_ids   residual_deviance\n",
      "0           2  depth_grid_model_1   8.582603711148172\n",
      "1           6  depth_grid_model_3  10.299542166052671\n",
      "2           4  depth_grid_model_2  10.378852893143074\n",
      "3          16  depth_grid_model_8  11.350201168324462\n",
      "4          12  depth_grid_model_6  11.350201168324462\n",
      "5          14  depth_grid_model_7  11.350201168324462\n",
      "6           8  depth_grid_model_4  11.386830104743034\n",
      "7          10  depth_grid_model_5  11.408501214655228\n",
      "\n"
     ]
    }
   ],
   "source": [
    "print(grid)"
   ]
  },
  {
   "cell_type": "code",
   "execution_count": 24,
   "metadata": {},
   "outputs": [
    {
     "name": "stdout",
     "output_type": "stream",
     "text": [
      "AutoML progress: |████████████████████████████████████████████████████████| 100%\n"
     ]
    }
   ],
   "source": [
    "from h2o.automl import H2OAutoML as AutoML\n",
    "\n",
    "aml = AutoML(max_models = 10, max_runtime_secs=100, seed=2)\n",
    "aml.train(training_frame= train_df, validation_frame=valid_df, y = 'medv', x=features)"
   ]
  },
  {
   "cell_type": "code",
   "execution_count": 25,
   "metadata": {},
   "outputs": [
    {
     "data": {
      "text/html": [
       "<table>\n",
       "<thead>\n",
       "<tr><th>model_id                                           </th><th style=\"text-align: right;\">  mean_residual_deviance</th><th style=\"text-align: right;\">   rmse</th><th style=\"text-align: right;\">     mse</th><th style=\"text-align: right;\">    mae</th><th style=\"text-align: right;\">   rmsle</th></tr>\n",
       "</thead>\n",
       "<tbody>\n",
       "<tr><td>StackedEnsemble_AllModels_AutoML_20181210_223722   </td><td style=\"text-align: right;\">                 9.82793</td><td style=\"text-align: right;\">3.13495</td><td style=\"text-align: right;\"> 9.82793</td><td style=\"text-align: right;\">2.13917</td><td style=\"text-align: right;\">0.139589</td></tr>\n",
       "<tr><td>StackedEnsemble_BestOfFamily_AutoML_20181210_223722</td><td style=\"text-align: right;\">                 9.94461</td><td style=\"text-align: right;\">3.15351</td><td style=\"text-align: right;\"> 9.94461</td><td style=\"text-align: right;\">2.14671</td><td style=\"text-align: right;\">0.138903</td></tr>\n",
       "<tr><td>GBM_3_AutoML_20181210_223722                       </td><td style=\"text-align: right;\">                10.2273 </td><td style=\"text-align: right;\">3.19802</td><td style=\"text-align: right;\">10.2273 </td><td style=\"text-align: right;\">2.24126</td><td style=\"text-align: right;\">0.14437 </td></tr>\n",
       "<tr><td>GBM_2_AutoML_20181210_223722                       </td><td style=\"text-align: right;\">                10.2627 </td><td style=\"text-align: right;\">3.20355</td><td style=\"text-align: right;\">10.2627 </td><td style=\"text-align: right;\">2.23899</td><td style=\"text-align: right;\">0.143894</td></tr>\n",
       "<tr><td>GBM_1_AutoML_20181210_223722                       </td><td style=\"text-align: right;\">                10.2719 </td><td style=\"text-align: right;\">3.20498</td><td style=\"text-align: right;\">10.2719 </td><td style=\"text-align: right;\">2.21991</td><td style=\"text-align: right;\">0.147681</td></tr>\n",
       "<tr><td>GBM_4_AutoML_20181210_223722                       </td><td style=\"text-align: right;\">                10.287  </td><td style=\"text-align: right;\">3.20734</td><td style=\"text-align: right;\">10.287  </td><td style=\"text-align: right;\">2.24546</td><td style=\"text-align: right;\">0.144326</td></tr>\n",
       "<tr><td>XGBoost_2_AutoML_20181210_223722                   </td><td style=\"text-align: right;\">                10.3645 </td><td style=\"text-align: right;\">3.21939</td><td style=\"text-align: right;\">10.3645 </td><td style=\"text-align: right;\">2.05124</td><td style=\"text-align: right;\">0.143118</td></tr>\n",
       "<tr><td>XGBoost_1_AutoML_20181210_223722                   </td><td style=\"text-align: right;\">                11.068  </td><td style=\"text-align: right;\">3.32686</td><td style=\"text-align: right;\">11.068  </td><td style=\"text-align: right;\">2.16475</td><td style=\"text-align: right;\">0.14958 </td></tr>\n",
       "<tr><td>XGBoost_3_AutoML_20181210_223722                   </td><td style=\"text-align: right;\">                11.3421 </td><td style=\"text-align: right;\">3.3678 </td><td style=\"text-align: right;\">11.3421 </td><td style=\"text-align: right;\">2.26389</td><td style=\"text-align: right;\">0.147565</td></tr>\n",
       "<tr><td>XRT_1_AutoML_20181210_223722                       </td><td style=\"text-align: right;\">                12.0748 </td><td style=\"text-align: right;\">3.47488</td><td style=\"text-align: right;\">12.0748 </td><td style=\"text-align: right;\">2.31572</td><td style=\"text-align: right;\">0.141624</td></tr>\n",
       "</tbody>\n",
       "</table>"
      ]
     },
     "metadata": {},
     "output_type": "display_data"
    },
    {
     "name": "stdout",
     "output_type": "stream",
     "text": [
      "\n"
     ]
    }
   ],
   "source": [
    "print(aml.leaderboard)"
   ]
  },
  {
   "cell_type": "code",
   "execution_count": null,
   "metadata": {},
   "outputs": [],
   "source": []
  }
 ],
 "metadata": {
  "kernelspec": {
   "display_name": "Python [conda env:anaconda3]",
   "language": "python",
   "name": "conda-env-anaconda3-py"
  },
  "language_info": {
   "codemirror_mode": {
    "name": "ipython",
    "version": 3
   },
   "file_extension": ".py",
   "mimetype": "text/x-python",
   "name": "python",
   "nbconvert_exporter": "python",
   "pygments_lexer": "ipython3",
   "version": "3.6.5"
  }
 },
 "nbformat": 4,
 "nbformat_minor": 2
}
