{
 "cells": [
  {
   "cell_type": "code",
   "execution_count": 1,
   "metadata": {},
   "outputs": [
    {
     "name": "stdout",
     "output_type": "stream",
     "text": [
      "HARI SELDON-... bom In the 1 1,988th year of the Galactic Era; died 12,069. The dates are more commonly given In terms of the current Foundational Era as - 79 to the year 1 F.E. Born to middle-class parents on Flelicon, Arcturus sector (where his father, In a legend of doubtful authenticity, was a tobacco grower in the hydroponic plants of the planet), he early showed amazing ability in mathematics. Anecdotes concerning his ability are innumerable, and some are contradictory. At the age of two, he is said to have ... Undoubtedly his greatest contributions were in the field of psychohistory. Seldon found the field little more than a set of vague axioms; he left it a profound statistical science.... The best existing authority we have for the details of his life is the biography written by Gaal Dornick who. as a young man, met Seldon two years before the great mathematician's death. The story of the meeting ... \n"
     ]
    }
   ],
   "source": [
    "f = open('foundation.txt')\n",
    "text = f.read()\n",
    "print(text)\n"
   ]
  },
  {
   "cell_type": "code",
   "execution_count": 2,
   "metadata": {},
   "outputs": [
    {
     "name": "stdout",
     "output_type": "stream",
     "text": [
      "HARI SELDON     bom In the 1 1 988th year of the Galactic Era  died 12 069  The dates are more commonly given In terms of the current Foundational Era as   79 to the year 1 F E  Born to middle class parents on Flelicon  Arcturus sector  where his father  In a legend of doubtful authenticity  was a tobacco grower in the hydroponic plants of the planet   he early showed amazing ability in mathematics  Anecdotes concerning his ability are innumerable  and some are contradictory  At the age of two  he is said to have     Undoubtedly his greatest contributions were in the field of psychohistory  Seldon found the field little more than a set of vague axioms  he left it a profound statistical science     The best existing authority we have for the details of his life is the biography written by Gaal Dornick who  as a young man  met Seldon two years before the great mathematician s death  The story of the meeting     \n"
     ]
    }
   ],
   "source": [
    "# clean data\n",
    "import re\n",
    "# remove Punctuation\n",
    "text = re.sub(r\"[^a-zA-Z0-9]\", \" \", text) \n",
    "print(text)"
   ]
  },
  {
   "cell_type": "code",
   "execution_count": 3,
   "metadata": {},
   "outputs": [
    {
     "name": "stdout",
     "output_type": "stream",
     "text": [
      "hari seldon     bom in the 1 1 988th year of the galactic era  died 12 069  the dates are more commonly given in terms of the current foundational era as   79 to the year 1 f e  born to middle class parents on flelicon  arcturus sector  where his father  in a legend of doubtful authenticity  was a tobacco grower in the hydroponic plants of the planet   he early showed amazing ability in mathematics  anecdotes concerning his ability are innumerable  and some are contradictory  at the age of two  he is said to have     undoubtedly his greatest contributions were in the field of psychohistory  seldon found the field little more than a set of vague axioms  he left it a profound statistical science     the best existing authority we have for the details of his life is the biography written by gaal dornick who  as a young man  met seldon two years before the great mathematician s death  the story of the meeting     \n"
     ]
    }
   ],
   "source": [
    "# Normalize text\n",
    "# Convert to lowercase\n",
    "text = text.lower() \n",
    "print(text)"
   ]
  },
  {
   "cell_type": "code",
   "execution_count": 4,
   "metadata": {},
   "outputs": [
    {
     "name": "stdout",
     "output_type": "stream",
     "text": [
      "['hari', 'seldon', 'bom', 'in', 'the', '1', '1', '988th', 'year', 'of', 'the', 'galactic', 'era', 'died', '12', '069', 'the', 'dates', 'are', 'more', 'commonly', 'given', 'in', 'terms', 'of', 'the', 'current', 'foundational', 'era', 'as', '79', 'to', 'the', 'year', '1', 'f', 'e', 'born', 'to', 'middle', 'class', 'parents', 'on', 'flelicon', 'arcturus', 'sector', 'where', 'his', 'father', 'in', 'a', 'legend', 'of', 'doubtful', 'authenticity', 'was', 'a', 'tobacco', 'grower', 'in', 'the', 'hydroponic', 'plants', 'of', 'the', 'planet', 'he', 'early', 'showed', 'amazing', 'ability', 'in', 'mathematics', 'anecdotes', 'concerning', 'his', 'ability', 'are', 'innumerable', 'and', 'some', 'are', 'contradictory', 'at', 'the', 'age', 'of', 'two', 'he', 'is', 'said', 'to', 'have', 'undoubtedly', 'his', 'greatest', 'contributions', 'were', 'in', 'the', 'field', 'of', 'psychohistory', 'seldon', 'found', 'the', 'field', 'little', 'more', 'than', 'a', 'set', 'of', 'vague', 'axioms', 'he', 'left', 'it', 'a', 'profound', 'statistical', 'science', 'the', 'best', 'existing', 'authority', 'we', 'have', 'for', 'the', 'details', 'of', 'his', 'life', 'is', 'the', 'biography', 'written', 'by', 'gaal', 'dornick', 'who', 'as', 'a', 'young', 'man', 'met', 'seldon', 'two', 'years', 'before', 'the', 'great', 'mathematician', 's', 'death', 'the', 'story', 'of', 'the', 'meeting']\n"
     ]
    }
   ],
   "source": [
    "# Tokenize the texts\n",
    "words = text.split()\n",
    "print(words)"
   ]
  },
  {
   "cell_type": "code",
   "execution_count": 5,
   "metadata": {},
   "outputs": [
    {
     "name": "stderr",
     "output_type": "stream",
     "text": [
      "[nltk_data] Downloading package punkt to /Users/am/nltk_data...\n"
     ]
    },
    {
     "name": "stdout",
     "output_type": "stream",
     "text": [
      "['hari', 'seldon', 'bom', 'in', 'the', '1', '1', '988th', 'year', 'of', 'the', 'galactic', 'era', 'died', '12', '069', 'the', 'dates', 'are', 'more', 'commonly', 'given', 'in', 'terms', 'of', 'the', 'current', 'foundational', 'era', 'as', '79', 'to', 'the', 'year', '1', 'f', 'e', 'born', 'to', 'middle', 'class', 'parents', 'on', 'flelicon', 'arcturus', 'sector', 'where', 'his', 'father', 'in', 'a', 'legend', 'of', 'doubtful', 'authenticity', 'was', 'a', 'tobacco', 'grower', 'in', 'the', 'hydroponic', 'plants', 'of', 'the', 'planet', 'he', 'early', 'showed', 'amazing', 'ability', 'in', 'mathematics', 'anecdotes', 'concerning', 'his', 'ability', 'are', 'innumerable', 'and', 'some', 'are', 'contradictory', 'at', 'the', 'age', 'of', 'two', 'he', 'is', 'said', 'to', 'have', 'undoubtedly', 'his', 'greatest', 'contributions', 'were', 'in', 'the', 'field', 'of', 'psychohistory', 'seldon', 'found', 'the', 'field', 'little', 'more', 'than', 'a', 'set', 'of', 'vague', 'axioms', 'he', 'left', 'it', 'a', 'profound', 'statistical', 'science', 'the', 'best', 'existing', 'authority', 'we', 'have', 'for', 'the', 'details', 'of', 'his', 'life', 'is', 'the', 'biography', 'written', 'by', 'gaal', 'dornick', 'who', 'as', 'a', 'young', 'man', 'met', 'seldon', 'two', 'years', 'before', 'the', 'great', 'mathematician', 's', 'death', 'the', 'story', 'of', 'the', 'meeting']\n"
     ]
    },
    {
     "name": "stderr",
     "output_type": "stream",
     "text": [
      "[nltk_data]   Package punkt is already up-to-date!\n"
     ]
    }
   ],
   "source": [
    "import os\n",
    "import nltk\n",
    "nltk.download('punkt') \n",
    "from nltk.tokenize import word_tokenize\n",
    "\n",
    "# Split text into words using NLTK\n",
    "words_nltk = word_tokenize(text)\n",
    "print(words_nltk)"
   ]
  },
  {
   "cell_type": "code",
   "execution_count": 6,
   "metadata": {},
   "outputs": [
    {
     "name": "stdout",
     "output_type": "stream",
     "text": [
      "['i', 'me', 'my', 'myself', 'we', 'our', 'ours', 'ourselves', 'you', \"you're\", \"you've\", \"you'll\", \"you'd\", 'your', 'yours', 'yourself', 'yourselves', 'he', 'him', 'his', 'himself', 'she', \"she's\", 'her', 'hers', 'herself', 'it', \"it's\", 'its', 'itself', 'they', 'them', 'their', 'theirs', 'themselves', 'what', 'which', 'who', 'whom', 'this', 'that', \"that'll\", 'these', 'those', 'am', 'is', 'are', 'was', 'were', 'be', 'been', 'being', 'have', 'has', 'had', 'having', 'do', 'does', 'did', 'doing', 'a', 'an', 'the', 'and', 'but', 'if', 'or', 'because', 'as', 'until', 'while', 'of', 'at', 'by', 'for', 'with', 'about', 'against', 'between', 'into', 'through', 'during', 'before', 'after', 'above', 'below', 'to', 'from', 'up', 'down', 'in', 'out', 'on', 'off', 'over', 'under', 'again', 'further', 'then', 'once', 'here', 'there', 'when', 'where', 'why', 'how', 'all', 'any', 'both', 'each', 'few', 'more', 'most', 'other', 'some', 'such', 'no', 'nor', 'not', 'only', 'own', 'same', 'so', 'than', 'too', 'very', 's', 't', 'can', 'will', 'just', 'don', \"don't\", 'should', \"should've\", 'now', 'd', 'll', 'm', 'o', 're', 've', 'y', 'ain', 'aren', \"aren't\", 'couldn', \"couldn't\", 'didn', \"didn't\", 'doesn', \"doesn't\", 'hadn', \"hadn't\", 'hasn', \"hasn't\", 'haven', \"haven't\", 'isn', \"isn't\", 'ma', 'mightn', \"mightn't\", 'mustn', \"mustn't\", 'needn', \"needn't\", 'shan', \"shan't\", 'shouldn', \"shouldn't\", 'wasn', \"wasn't\", 'weren', \"weren't\", 'won', \"won't\", 'wouldn', \"wouldn't\"]\n"
     ]
    },
    {
     "name": "stderr",
     "output_type": "stream",
     "text": [
      "[nltk_data] Downloading package stopwords to /Users/am/nltk_data...\n",
      "[nltk_data]   Package stopwords is already up-to-date!\n"
     ]
    }
   ],
   "source": [
    "# List stop words\n",
    "from nltk.corpus import stopwords\n",
    "nltk.download('stopwords')\n",
    "print(stopwords.words(\"english\"))"
   ]
  },
  {
   "cell_type": "code",
   "execution_count": 7,
   "metadata": {},
   "outputs": [
    {
     "name": "stdout",
     "output_type": "stream",
     "text": [
      "['hari', 'seldon', 'bom', '1', '1', '988th', 'year', 'galactic', 'era', 'died', '12', '069', 'dates', 'commonly', 'given', 'terms', 'current', 'foundational', 'era', '79', 'year', '1', 'f', 'e', 'born', 'middle', 'class', 'parents', 'flelicon', 'arcturus', 'sector', 'father', 'legend', 'doubtful', 'authenticity', 'tobacco', 'grower', 'hydroponic', 'plants', 'planet', 'early', 'showed', 'amazing', 'ability', 'mathematics', 'anecdotes', 'concerning', 'ability', 'innumerable', 'contradictory', 'age', 'two', 'said', 'undoubtedly', 'greatest', 'contributions', 'field', 'psychohistory', 'seldon', 'found', 'field', 'little', 'set', 'vague', 'axioms', 'left', 'profound', 'statistical', 'science', 'best', 'existing', 'authority', 'details', 'life', 'biography', 'written', 'gaal', 'dornick', 'young', 'man', 'met', 'seldon', 'two', 'years', 'great', 'mathematician', 'death', 'story', 'meeting']\n"
     ]
    }
   ],
   "source": [
    "#Remove stop words\n",
    "words = [w for w in words if w not in stopwords.words(\"english\")]\n",
    "print(words)"
   ]
  },
  {
   "cell_type": "code",
   "execution_count": 8,
   "metadata": {},
   "outputs": [
    {
     "name": "stdout",
     "output_type": "stream",
     "text": [
      "['hari', 'seldon', 'bom', '1', '1', '988th', 'year', 'galact', 'era', 'die', '12', '069', 'date', 'commonli', 'given', 'term', 'current', 'foundat', 'era', '79', 'year', '1', 'f', 'e', 'born', 'middl', 'class', 'parent', 'flelicon', 'arcturu', 'sector', 'father', 'legend', 'doubt', 'authent', 'tobacco', 'grower', 'hydropon', 'plant', 'planet', 'earli', 'show', 'amaz', 'abil', 'mathemat', 'anecdot', 'concern', 'abil', 'innumer', 'contradictori', 'age', 'two', 'said', 'undoubtedli', 'greatest', 'contribut', 'field', 'psychohistori', 'seldon', 'found', 'field', 'littl', 'set', 'vagu', 'axiom', 'left', 'profound', 'statist', 'scienc', 'best', 'exist', 'author', 'detail', 'life', 'biographi', 'written', 'gaal', 'dornick', 'young', 'man', 'met', 'seldon', 'two', 'year', 'great', 'mathematician', 'death', 'stori', 'meet']\n"
     ]
    }
   ],
   "source": [
    "from nltk.stem.porter import PorterStemmer\n",
    "\n",
    "# Reduce words to their stems\n",
    "stemmed = [PorterStemmer().stem(w) for w in words]\n",
    "print(stemmed)"
   ]
  },
  {
   "cell_type": "code",
   "execution_count": 9,
   "metadata": {},
   "outputs": [
    {
     "name": "stdout",
     "output_type": "stream",
     "text": [
      "['hari', 'seldon', 'bom', '1', '1', '988th', 'year', 'galactic', 'era', 'died', '12', '069', 'date', 'commonly', 'given', 'term', 'current', 'foundational', 'era', '79', 'year', '1', 'f', 'e', 'born', 'middle', 'class', 'parent', 'flelicon', 'arcturus', 'sector', 'father', 'legend', 'doubtful', 'authenticity', 'tobacco', 'grower', 'hydroponic', 'plant', 'planet', 'early', 'showed', 'amazing', 'ability', 'mathematics', 'anecdote', 'concerning', 'ability', 'innumerable', 'contradictory', 'age', 'two', 'said', 'undoubtedly', 'greatest', 'contribution', 'field', 'psychohistory', 'seldon', 'found', 'field', 'little', 'set', 'vague', 'axiom', 'left', 'profound', 'statistical', 'science', 'best', 'existing', 'authority', 'detail', 'life', 'biography', 'written', 'gaal', 'dornick', 'young', 'man', 'met', 'seldon', 'two', 'year', 'great', 'mathematician', 'death', 'story', 'meeting']\n"
     ]
    }
   ],
   "source": [
    "from nltk.stem.wordnet import WordNetLemmatizer\n",
    "\n",
    "# Reduce words to their root form\n",
    "lemmed = [WordNetLemmatizer().lemmatize(w) for w in words]\n",
    "print(lemmed)"
   ]
  },
  {
   "cell_type": "code",
   "execution_count": null,
   "metadata": {},
   "outputs": [],
   "source": []
  }
 ],
 "metadata": {
  "kernelspec": {
   "display_name": "Python [conda env:tensorflow]",
   "language": "python",
   "name": "conda-env-tensorflow-py"
  },
  "language_info": {
   "codemirror_mode": {
    "name": "ipython",
    "version": 3
   },
   "file_extension": ".py",
   "mimetype": "text/x-python",
   "name": "python",
   "nbconvert_exporter": "python",
   "pygments_lexer": "ipython3",
   "version": "3.5.6"
  }
 },
 "nbformat": 4,
 "nbformat_minor": 2
}
