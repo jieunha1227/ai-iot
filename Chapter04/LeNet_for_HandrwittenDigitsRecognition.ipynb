{
 "cells": [
  {
   "cell_type": "code",
   "execution_count": 1,
   "metadata": {},
   "outputs": [],
   "source": [
    "# Import Modules\n",
    "import numpy as np\n",
    "import pandas as pd\n",
    "import matplotlib.pyplot as plt\n",
    "%matplotlib inline"
   ]
  },
  {
   "cell_type": "code",
   "execution_count": 2,
   "metadata": {},
   "outputs": [
    {
     "name": "stderr",
     "output_type": "stream",
     "text": [
      "/home/am/anaconda3/envs/tensorflow/lib/python3.5/site-packages/h5py/__init__.py:36: FutureWarning: Conversion of the second argument of issubdtype from `float` to `np.floating` is deprecated. In future, it will be treated as `np.float64 == np.dtype(float).type`.\n",
      "  from ._conv import register_converters as _register_converters\n"
     ]
    }
   ],
   "source": [
    "# Define your Architecture here\n",
    "import tensorflow as tf\n",
    "from tensorflow.contrib.layers import flatten\n",
    "\n",
    "class my_LeNet:\n",
    "    def __init__(self, d, n, mu = 0, sigma = 0.1, lr = 0.001):\n",
    "        self.mu = mu\n",
    "        self.sigma = sigma\n",
    "        self.n = n\n",
    "        self.x = tf.placeholder(tf.float32, (None, d, d, 1))  # place holder for input image dimension 28 x 28\n",
    "        self.y = tf.placeholder(tf.int32, (None,n))\n",
    "        self.keep_prob = tf.placeholder(tf.float32) # probability to keep units\n",
    "        \n",
    "        \n",
    "        self.logits = self.model(self.x)\n",
    "        \n",
    "        cross_entropy = tf.nn.softmax_cross_entropy_with_logits(labels=self.y, logits=self.logits)\n",
    "        self.loss = tf.reduce_mean(cross_entropy)\n",
    "        optimizer = tf.train.AdamOptimizer(learning_rate = lr)\n",
    "        self.train = optimizer.minimize(self.loss)\n",
    "        correct_prediction = tf.equal(tf.argmax(self.logits, 1), tf.argmax(self.y, 1))\n",
    "        self.accuracy = tf.reduce_mean(tf.cast(correct_prediction, tf.float32))\n",
    "        init = tf.global_variables_initializer()\n",
    "        self.sess = tf.Session()\n",
    "        self.sess.run(init)\n",
    "        self.saver = tf.train.Saver()\n",
    "   \n",
    "        \n",
    "        \n",
    "    def model(self,x):   \n",
    "        # Build Architecture\n",
    "        keep_prob = 0.7\n",
    "        # Layer 1: Convolutional. Filter 5x5 num_filters = 6 Input_depth =1\n",
    "        conv1_W = tf.Variable(tf.truncated_normal(shape=(5, 5, 1, 6), mean = self.mu, stddev = self.sigma))\n",
    "        conv1_b = tf.Variable(tf.zeros(6))\n",
    "        conv1   = tf.nn.conv2d(x, conv1_W, strides=[1, 1, 1, 1], padding='VALID') + conv1_b\n",
    "        conv1 = tf.nn.relu(conv1)\n",
    "        \n",
    "        # Max Pool 1 \n",
    "        self.conv1 = tf.nn.max_pool(conv1, ksize=[1, 2, 2, 1], strides=[1, 2, 2, 1], padding='VALID')\n",
    "        \n",
    "        \n",
    "        # Layer 2: Convolutional. Filter 5x5 num_filters = 16  Input_depth =6\n",
    "        conv2_W = tf.Variable(tf.truncated_normal(shape=(5, 5, 6, 16), mean = self.mu, stddev = self.sigma))\n",
    "        conv2_b = tf.Variable(tf.zeros(16))\n",
    "        conv2   = tf.nn.conv2d(self.conv1, conv2_W, strides=[1, 1, 1, 1], padding='VALID') + conv2_b\n",
    "        conv2 = tf.nn.relu(conv2)\n",
    "\n",
    "        # Max Pool 2.\n",
    "        self.conv2 = tf.nn.max_pool(conv2, ksize=[1, 2, 2, 1], strides=[1, 2, 2, 1], padding='VALID')\n",
    "        \n",
    "        # Flatten. \n",
    "        fc0   = flatten(self.conv2)\n",
    "        print(\"x shape:\",fc0.get_shape())\n",
    "        \n",
    "        # Layer 3: Fully Connected. Input = fc0.get_shape[-1]. Output = 120.\n",
    "        fc1_W = tf.Variable(tf.truncated_normal(shape=(256, 120), mean = self.mu, stddev = self.sigma))\n",
    "        fc1_b = tf.Variable(tf.zeros(120))\n",
    "        fc1   = tf.matmul(fc0, fc1_W) + fc1_b\n",
    "        fc1    = tf.nn.relu(fc1)\n",
    "        \n",
    "        # Dropout\n",
    "        x = tf.nn.dropout(fc1, keep_prob)\n",
    "\n",
    "        # Layer 4: Fully Connected. Input = 120. Output = 84.\n",
    "        fc2_W  = tf.Variable(tf.truncated_normal(shape=(120, 84), mean = self.mu, stddev = self.sigma))\n",
    "        fc2_b  = tf.Variable(tf.zeros(84))\n",
    "        fc2    = tf.matmul(x, fc2_W) + fc2_b\n",
    "        fc2    = tf.nn.relu(fc2)\n",
    "        \n",
    "        # Dropout\n",
    "        x = tf.nn.dropout(fc2, keep_prob)\n",
    "\n",
    "        # Layer 6: Fully Connected. Input = 120. Output = n_classes.\n",
    "        fc3_W  = tf.Variable(tf.truncated_normal(shape=(84, self.n), mean = self.mu, stddev = self.sigma))\n",
    "        fc3_b  = tf.Variable(tf.zeros(self.n))\n",
    "        logits = tf.matmul(x, fc3_W) + fc3_b\n",
    "        #logits = tf.nn.softmax(logits)\n",
    "        return logits\n",
    "        \n",
    "    def fit(self,X,Y,X_val,Y_val,epochs=10, batch_size=100):\n",
    "        X_train, y_train = X, Y\n",
    "        num_examples = len(X_train)\n",
    "        l = []\n",
    "        val_l = []\n",
    "        max_val = 0\n",
    "        for i in range(epochs):\n",
    "            total = 0\n",
    "            for offset in range(0, num_examples, batch_size):  # Learn Batch wise\n",
    "                end = offset + batch_size\n",
    "                batch_x, batch_y = X_train[offset:end], y_train[offset:end]\n",
    "                _, loss = self.sess.run([self.train,self.loss], feed_dict={self.x: batch_x, self.y: batch_y})\n",
    "                total += loss\n",
    "            l.append(total/num_examples)\n",
    "            accuracy_val = self.sess.run(self.accuracy, feed_dict={self.x: X_val, self.y: Y_val})\n",
    "            accuracy = self.sess.run(self.accuracy, feed_dict={self.x: X, self.y: Y})\n",
    "            loss_val = self.sess.run(self.loss, feed_dict={self.x:X_val,self.y:Y_val})\n",
    "            val_l.append(loss_val)\n",
    "            print(\"EPOCH {}/{} loss is {:.3f} training_accuracy {:.3f} and validation accuracy is {:.3f}\".\\\n",
    "                  format(i+1,epochs,total/num_examples, accuracy, accuracy_val))\n",
    "            if accuracy_val > max_val:\n",
    "                save_path = self.saver.save(self.sess, \"/tmp/lenet1.ckpt\")\n",
    "                print(\"Model saved in path: %s\" % save_path)\n",
    "                max_val = accuracy_val\n",
    "\n",
    "        self.saver.restore(self.sess, \"/tmp/lenet1.ckpt\")\n",
    "        print(\"Restored model with highest validation accuracy\")\n",
    "        accuracy_val = self.sess.run(self.accuracy, feed_dict={self.x: X_val, self.y: Y_val})\n",
    "        accuracy = self.sess.run(self.accuracy, feed_dict={self.x: X, self.y: Y})\n",
    "        return l,val_l, accuracy, accuracy_val \n",
    "    \n",
    "    def predict(self, X):\n",
    "        return self.sess.run(self.logits,feed_dict={self.x:X})\n"
   ]
  },
  {
   "cell_type": "code",
   "execution_count": 3,
   "metadata": {},
   "outputs": [],
   "source": [
    "def load_data():\n",
    "    # Read the data and create train, validation and test dataset\n",
    "    data = pd.read_csv('train.csv')\n",
    "    train = data.sample(frac=0.8, random_state=255)   # This ensures always 80% of data is training and rest Validation  unlike using np.random\n",
    "    val = data.drop(train.index)\n",
    "    test = pd.read_csv('test.csv')\n",
    "    return train, val, test\n",
    "    \n",
    "def create_data(df):\n",
    "    labels = df.loc[:]['label']\n",
    "    y_one_hot = pd.get_dummies(labels).astype(np.uint8)\n",
    "    y = y_one_hot.values # One Hot encode the labels\n",
    "    x = df.iloc[:,1:].values\n",
    "    x = x.astype(np.float)\n",
    "    # Normalize data\n",
    "    x = np.multiply(x, 1.0 / 255.0)\n",
    "    x = x.reshape(-1, 28, 28, 1) # return each images as 96 x 96 x 1\n",
    "    return x,y\n",
    "\n",
    "train, val, test = load_data()\n",
    "X_train, y_train = create_data(train)\n",
    "X_val, y_val = create_data(val)\n",
    "X_test = (test.iloc[:,:].values).astype(np.float)\n",
    "X_test = np.multiply(X_test, 1.0 / 255.0)\n",
    "X_test = X_test.reshape(-1, 28, 28, 1) # return each images as 96 x 96 x 1"
   ]
  },
  {
   "cell_type": "code",
   "execution_count": 4,
   "metadata": {},
   "outputs": [
    {
     "data": {
      "image/png": "[encoded data removed]",
      "text/plain": [
       "<matplotlib.figure.Figure at 0x7f1c0fa45048>"
      ]
     },
     "metadata": {},
     "output_type": "display_data"
    }
   ],
   "source": [
    "# take subset of training data\n",
    "x_train_subset = X_train[:12]\n",
    "\n",
    "\n",
    "# visualize subset of training data\n",
    "fig = plt.figure(figsize=(20,2))\n",
    "for i in range(0, len(x_train_subset)):\n",
    "    ax = fig.add_subplot(1, 12, i+1)\n",
    "    ax.imshow(x_train_subset[i].reshape(28,28), cmap='gray')\n",
    "fig.suptitle('Subset of Original Training Images', fontsize=20)\n",
    "plt.show()"
   ]
  },
  {
   "cell_type": "code",
   "execution_count": 5,
   "metadata": {},
   "outputs": [
    {
     "name": "stdout",
     "output_type": "stream",
     "text": [
      "Number of training examples = 33600\n",
      "Number of Validation examples = 8400\n",
      "Number of testing examples = 28000\n",
      "Image data shape = (28, 28)\n",
      "Number of classes = 10\n"
     ]
    }
   ],
   "source": [
    "n_train = len(X_train)\n",
    "\n",
    "# Number of validation examples\n",
    "n_validation = len(X_val)\n",
    "\n",
    "# Number of testing examples.\n",
    "n_test = len(X_test)\n",
    "\n",
    "# What's the shape of an handwritten digits?\n",
    "image_shape = X_train.shape[1:-1]\n",
    "\n",
    "# How many unique classes/labels there are in the dataset.\n",
    "n_classes = y_train.shape[-1]\n",
    "\n",
    "print(\"Number of training examples =\", n_train)\n",
    "print(\"Number of Validation examples =\", n_validation)\n",
    "print(\"Number of testing examples =\", n_test)\n",
    "print(\"Image data shape =\", image_shape)\n",
    "print(\"Number of classes =\", n_classes)"
   ]
  },
  {
   "cell_type": "code",
   "execution_count": 6,
   "metadata": {},
   "outputs": [],
   "source": [
    "# Define the data values\n",
    "d = image_shape[0]\n",
    "n = n_classes\n",
    "from sklearn.utils import shuffle\n",
    "X_train, y_train = shuffle(X_train,y_train)"
   ]
  },
  {
   "cell_type": "code",
   "execution_count": 7,
   "metadata": {},
   "outputs": [
    {
     "name": "stdout",
     "output_type": "stream",
     "text": [
      "x shape: (?, 256)\n"
     ]
    }
   ],
   "source": [
    "# Create the Model\n",
    "my_model = my_LeNet(d, n)"
   ]
  },
  {
   "cell_type": "code",
   "execution_count": 8,
   "metadata": {},
   "outputs": [
    {
     "name": "stdout",
     "output_type": "stream",
     "text": [
      "EPOCH 1/50 loss is 0.006 training_accuracy 0.926 and validation accuracy is 0.929\n",
      "Model saved in path: /tmp/lenet1.ckpt\n",
      "EPOCH 2/50 loss is 0.002 training_accuracy 0.953 and validation accuracy is 0.954\n",
      "Model saved in path: /tmp/lenet1.ckpt\n",
      "EPOCH 3/50 loss is 0.001 training_accuracy 0.965 and validation accuracy is 0.962\n",
      "Model saved in path: /tmp/lenet1.ckpt\n",
      "EPOCH 4/50 loss is 0.001 training_accuracy 0.971 and validation accuracy is 0.969\n",
      "Model saved in path: /tmp/lenet1.ckpt\n",
      "EPOCH 5/50 loss is 0.001 training_accuracy 0.976 and validation accuracy is 0.972\n",
      "Model saved in path: /tmp/lenet1.ckpt\n",
      "EPOCH 6/50 loss is 0.001 training_accuracy 0.977 and validation accuracy is 0.975\n",
      "Model saved in path: /tmp/lenet1.ckpt\n",
      "EPOCH 7/50 loss is 0.001 training_accuracy 0.981 and validation accuracy is 0.977\n",
      "Model saved in path: /tmp/lenet1.ckpt\n",
      "EPOCH 8/50 loss is 0.001 training_accuracy 0.983 and validation accuracy is 0.978\n",
      "Model saved in path: /tmp/lenet1.ckpt\n",
      "EPOCH 9/50 loss is 0.001 training_accuracy 0.983 and validation accuracy is 0.977\n",
      "EPOCH 10/50 loss is 0.001 training_accuracy 0.982 and validation accuracy is 0.978\n",
      "Model saved in path: /tmp/lenet1.ckpt\n",
      "EPOCH 11/50 loss is 0.001 training_accuracy 0.985 and validation accuracy is 0.980\n",
      "Model saved in path: /tmp/lenet1.ckpt\n",
      "EPOCH 12/50 loss is 0.000 training_accuracy 0.987 and validation accuracy is 0.980\n",
      "EPOCH 13/50 loss is 0.000 training_accuracy 0.987 and validation accuracy is 0.980\n",
      "Model saved in path: /tmp/lenet1.ckpt\n",
      "EPOCH 14/50 loss is 0.000 training_accuracy 0.986 and validation accuracy is 0.980\n",
      "EPOCH 15/50 loss is 0.000 training_accuracy 0.989 and validation accuracy is 0.982\n",
      "Model saved in path: /tmp/lenet1.ckpt\n",
      "EPOCH 16/50 loss is 0.000 training_accuracy 0.990 and validation accuracy is 0.982\n",
      "Model saved in path: /tmp/lenet1.ckpt\n",
      "EPOCH 17/50 loss is 0.000 training_accuracy 0.992 and validation accuracy is 0.982\n",
      "Model saved in path: /tmp/lenet1.ckpt\n",
      "EPOCH 18/50 loss is 0.000 training_accuracy 0.991 and validation accuracy is 0.983\n",
      "Model saved in path: /tmp/lenet1.ckpt\n",
      "EPOCH 19/50 loss is 0.000 training_accuracy 0.991 and validation accuracy is 0.981\n",
      "EPOCH 20/50 loss is 0.000 training_accuracy 0.992 and validation accuracy is 0.983\n",
      "EPOCH 21/50 loss is 0.000 training_accuracy 0.990 and validation accuracy is 0.982\n",
      "EPOCH 22/50 loss is 0.000 training_accuracy 0.992 and validation accuracy is 0.981\n",
      "EPOCH 23/50 loss is 0.000 training_accuracy 0.992 and validation accuracy is 0.981\n",
      "EPOCH 24/50 loss is 0.000 training_accuracy 0.993 and validation accuracy is 0.984\n",
      "Model saved in path: /tmp/lenet1.ckpt\n",
      "EPOCH 25/50 loss is 0.000 training_accuracy 0.992 and validation accuracy is 0.983\n",
      "EPOCH 26/50 loss is 0.000 training_accuracy 0.993 and validation accuracy is 0.983\n",
      "EPOCH 27/50 loss is 0.000 training_accuracy 0.993 and validation accuracy is 0.983\n",
      "EPOCH 28/50 loss is 0.000 training_accuracy 0.994 and validation accuracy is 0.983\n",
      "EPOCH 29/50 loss is 0.000 training_accuracy 0.994 and validation accuracy is 0.984\n",
      "EPOCH 30/50 loss is 0.000 training_accuracy 0.995 and validation accuracy is 0.985\n",
      "Model saved in path: /tmp/lenet1.ckpt\n",
      "EPOCH 31/50 loss is 0.000 training_accuracy 0.994 and validation accuracy is 0.984\n",
      "EPOCH 32/50 loss is 0.000 training_accuracy 0.995 and validation accuracy is 0.985\n",
      "Model saved in path: /tmp/lenet1.ckpt\n",
      "EPOCH 33/50 loss is 0.000 training_accuracy 0.994 and validation accuracy is 0.983\n",
      "EPOCH 34/50 loss is 0.000 training_accuracy 0.991 and validation accuracy is 0.981\n",
      "EPOCH 35/50 loss is 0.000 training_accuracy 0.994 and validation accuracy is 0.983\n",
      "EPOCH 36/50 loss is 0.000 training_accuracy 0.995 and validation accuracy is 0.983\n",
      "EPOCH 37/50 loss is 0.000 training_accuracy 0.994 and validation accuracy is 0.983\n",
      "EPOCH 38/50 loss is 0.000 training_accuracy 0.995 and validation accuracy is 0.985\n",
      "EPOCH 39/50 loss is 0.000 training_accuracy 0.994 and validation accuracy is 0.983\n",
      "EPOCH 40/50 loss is 0.000 training_accuracy 0.993 and validation accuracy is 0.983\n",
      "EPOCH 41/50 loss is 0.000 training_accuracy 0.996 and validation accuracy is 0.984\n",
      "EPOCH 42/50 loss is 0.000 training_accuracy 0.995 and validation accuracy is 0.983\n",
      "EPOCH 43/50 loss is 0.000 training_accuracy 0.995 and validation accuracy is 0.985\n",
      "EPOCH 44/50 loss is 0.000 training_accuracy 0.996 and validation accuracy is 0.984\n",
      "EPOCH 45/50 loss is 0.000 training_accuracy 0.996 and validation accuracy is 0.985\n",
      "EPOCH 46/50 loss is 0.000 training_accuracy 0.996 and validation accuracy is 0.986\n",
      "Model saved in path: /tmp/lenet1.ckpt\n",
      "EPOCH 47/50 loss is 0.000 training_accuracy 0.996 and validation accuracy is 0.985\n",
      "EPOCH 48/50 loss is 0.000 training_accuracy 0.995 and validation accuracy is 0.983\n",
      "EPOCH 49/50 loss is 0.000 training_accuracy 0.997 and validation accuracy is 0.986\n",
      "EPOCH 50/50 loss is 0.000 training_accuracy 0.997 and validation accuracy is 0.986\n",
      "Model saved in path: /tmp/lenet1.ckpt\n",
      "INFO:tensorflow:Restoring parameters from /tmp/lenet1.ckpt\n",
      "Restored model with highest validation accuracy\n"
     ]
    }
   ],
   "source": [
    "### Train model  here.\n",
    "loss, val_loss, train_acc, val_acc = my_model.fit(X_train, y_train, X_val, y_val, epochs=50) "
   ]
  },
  {
   "cell_type": "code",
   "execution_count": 9,
   "metadata": {},
   "outputs": [
    {
     "data": {
      "text/plain": [
       "Text(0,0.5,'Loss')"
      ]
     },
     "execution_count": 9,
     "metadata": {},
     "output_type": "execute_result"
    },
    {
     "data": {
      "image/png": "[encoded data removed]",
      "text/plain": [
       "<matplotlib.figure.Figure at 0x7f1c0ba9e710>"
      ]
     },
     "metadata": {},
     "output_type": "display_data"
    }
   ],
   "source": [
    "plt.plot(loss, label=\"Training Loss\")\n",
    "plt.plot(val_loss, label = \"Validation Loss\")\n",
    "plt.legend()\n",
    "plt.xlabel(\"Number of Epochs\")\n",
    "plt.ylabel(\"Loss\")"
   ]
  },
  {
   "cell_type": "code",
   "execution_count": 10,
   "metadata": {},
   "outputs": [
    {
     "name": "stdout",
     "output_type": "stream",
     "text": [
      "Accuracy on training dataset is 99.658% and on Validation dataset is 98.607%\n"
     ]
    }
   ],
   "source": [
    "### Calculate and report the accuracy on the training and validation set.\n",
    "print(\"Accuracy on training dataset is {:.3f}% and on Validation dataset is {:.3f}%\".\n",
    "     format(train_acc*100,val_acc*100))"
   ]
  }
 ],
 "metadata": {
  "kernelspec": {
   "display_name": "Python [conda env:tensorflow]",
   "language": "python",
   "name": "conda-env-tensorflow-py"
  },
  "language_info": {
   "codemirror_mode": {
    "name": "ipython",
    "version": 3
   },
   "file_extension": ".py",
   "mimetype": "text/x-python",
   "name": "python",
   "nbconvert_exporter": "python",
   "pygments_lexer": "ipython3",
   "version": "3.5.4"
  }
 },
 "nbformat": 4,
 "nbformat_minor": 2
}
